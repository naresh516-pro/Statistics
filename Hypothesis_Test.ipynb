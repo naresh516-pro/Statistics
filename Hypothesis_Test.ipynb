{
  "cells": [
    {
      "cell_type": "code",
      "execution_count": 1,
      "metadata": {
        "id": "lUamWcSv9Iy7"
      },
      "outputs": [],
      "source": [
        "#import the libraries\n",
        "import pandas as pd\n",
        "import numpy as np\n",
        "from scipy import stats"
      ]
    },
    {
      "cell_type": "markdown",
      "metadata": {
        "id": "EZmTWLBk9IzE"
      },
      "source": [
        "# Super Market example\n",
        "- Minimum Shopping amount required = $120\n",
        "\n",
        "- Sample Mean = $130\n",
        "\n",
        "- Sample size (n) = 80\n",
        "\n",
        "- Sample Stdev = $40\n",
        "\n",
        "Null Hypothesis - Average spending is not significantly higher than $130. Do not launch the program.\n",
        "\n",
        "Alternate Hypothesis - The average spending is significantly higher than $130. We can go ahead and launch the loyalty program."
      ]
    },
    {
      "cell_type": "code",
      "execution_count": null,
      "metadata": {
        "colab": {
          "base_uri": "https://localhost:8080/"
        },
        "id": "8A5-Nc_Ksiea",
        "outputId": "64770c8f-0f94-40a5-ce62-9ee5e8c9beed"
      },
      "outputs": [
        {
          "output_type": "execute_result",
          "data": {
            "text/plain": [
              "2.23606797749979"
            ]
          },
          "metadata": {},
          "execution_count": 2
        }
      ],
      "source": [
        "#t = (Sample Mean - Pop Mean) / Std Error\n",
        "t=(130-120)/(40/np.sqrt(80))\n",
        "t"
      ]
    },
    {
      "cell_type": "code",
      "execution_count": null,
      "metadata": {
        "colab": {
          "base_uri": "https://localhost:8080/"
        },
        "id": "EbPWfEp49IzF",
        "outputId": "3d27d7b5-c03b-4313-cb80-907b2cef2191"
      },
      "outputs": [
        {
          "output_type": "execute_result",
          "data": {
            "text/plain": [
              "0.9859156837229892"
            ]
          },
          "metadata": {},
          "execution_count": 3
        }
      ],
      "source": [
        "#Cummulative Density Function\n",
        "#The probability given as output is for the average spent of <=130\n",
        "#Degrees of freedom (df) = Sample Size minus one = 80 - 1 = 79\n",
        "stats.t.cdf(t,df=79)"
      ]
    },
    {
      "cell_type": "code",
      "execution_count": null,
      "metadata": {
        "scrolled": true,
        "colab": {
          "base_uri": "https://localhost:8080/"
        },
        "id": "dESEksuKsiee",
        "outputId": "ee9c0711-b72c-4c2f-8be5-86492ef70047"
      },
      "outputs": [
        {
          "output_type": "execute_result",
          "data": {
            "text/plain": [
              "0.014084316277010789"
            ]
          },
          "metadata": {},
          "execution_count": 4
        }
      ],
      "source": [
        "#To calculate the p-value of average spent of >=130\n",
        "1-stats.t.cdf(t,df=79)"
      ]
    },
    {
      "cell_type": "markdown",
      "metadata": {
        "id": "arEoMQ-vsiee"
      },
      "source": [
        "Conclusion: Since we have just 0.01 chance of error, which is less than 0.05 significance level, for the average spend being >$130, the supermarket can go ahead with the launch of the loyalty program.\n",
        "\n",
        "In this case, p-value < Significance level of 0.05\n",
        "\n",
        "Hence Alternate Hypothesis is accepted"
      ]
    },
    {
      "cell_type": "markdown",
      "metadata": {
        "id": "1mULoszZ9IzG"
      },
      "source": [
        "# Call Center example"
      ]
    },
    {
      "cell_type": "markdown",
      "metadata": {
        "id": "l5zLlnt1sieg"
      },
      "source": [
        "Null Hypothesis : The average call duration is still at 4mins , & the variation in the sample is out of random error/chance\n",
        "\n",
        "Alternate Hypothesis : The average call duration is significantly different than the assumed mean of 4 mins."
      ]
    },
    {
      "cell_type": "code",
      "execution_count": 2,
      "metadata": {
        "id": "KCHr2J-Ssieg"
      },
      "outputs": [],
      "source": [
        "#Population_Mean = 4 mins\n",
        "#Population_StDev= 3 mins\n",
        "duration=pd.Series([3.7,4.1,3.5,4.2,3.9,4.1,4.2,3.8,3.7,4.6,3.7,4.6,4.0,4.2,3.8,4.4,5.3,6.1,7.2,6.5])"
      ]
    },
    {
      "cell_type": "code",
      "execution_count": 3,
      "metadata": {
        "colab": {
          "base_uri": "https://localhost:8080/"
        },
        "id": "sxofyXEEsieh",
        "outputId": "f60e55ec-3e8b-49c4-c419-a685cb234030"
      },
      "outputs": [
        {
          "output_type": "execute_result",
          "data": {
            "text/plain": [
              "20"
            ]
          },
          "metadata": {},
          "execution_count": 3
        }
      ],
      "source": [
        "#Sample Size\n",
        "len(duration)"
      ]
    },
    {
      "cell_type": "code",
      "execution_count": 4,
      "metadata": {
        "colab": {
          "base_uri": "https://localhost:8080/"
        },
        "id": "jR4bWG4Xsiei",
        "outputId": "5c36861d-bebf-4de1-a8a1-7ed4ffa17773"
      },
      "outputs": [
        {
          "output_type": "execute_result",
          "data": {
            "text/plain": [
              "4.4799999999999995"
            ]
          },
          "metadata": {},
          "execution_count": 4
        }
      ],
      "source": [
        "#Sample Mean\n",
        "duration.mean()"
      ]
    },
    {
      "cell_type": "code",
      "execution_count": 5,
      "metadata": {
        "colab": {
          "base_uri": "https://localhost:8080/"
        },
        "id": "rCY_lI41siei",
        "outputId": "f9e1e571-3502-47e2-f099-2d4636d5eb05"
      },
      "outputs": [
        {
          "output_type": "execute_result",
          "data": {
            "text/plain": [
              "0.7155417527999334"
            ]
          },
          "metadata": {},
          "execution_count": 5
        }
      ],
      "source": [
        "#t=(Sample Mean - Population Mean)/(Std Dev / Sqrt(Sample Size))\n",
        "t=(4.48 - 4)/(3/np.sqrt(20))\n",
        "t"
      ]
    },
    {
      "cell_type": "code",
      "source": [
        "LL = 4-t\n",
        "UL = 4+t\n",
        "print(\"Lower limit of the 95% Confidence Interval is\", LL)\n",
        "print(\"Upper limit of the 95% Confidence Interval is\", UL)"
      ],
      "metadata": {
        "colab": {
          "base_uri": "https://localhost:8080/"
        },
        "id": "JnUGwpYbGSY5",
        "outputId": "82bb7218-8469-49a7-8e25-39f6fc1f3efc"
      },
      "execution_count": 9,
      "outputs": [
        {
          "output_type": "stream",
          "name": "stdout",
          "text": [
            "Lower limit of the 95% Confidence Interval is 3.2844582472000665\n",
            "Upper limit of the 95% Confidence Interval is 4.7155417527999335\n"
          ]
        }
      ]
    },
    {
      "cell_type": "code",
      "execution_count": 6,
      "metadata": {
        "id": "HP9t8QeNsiej",
        "outputId": "6c4836c6-01b6-40a0-b5a2-c6bd1ba6a700",
        "colab": {
          "base_uri": "https://localhost:8080/"
        }
      },
      "outputs": [
        {
          "output_type": "execute_result",
          "data": {
            "text/plain": [
              "0.24148792354598703"
            ]
          },
          "metadata": {},
          "execution_count": 6
        }
      ],
      "source": [
        "p_value= 1 - stats.t.cdf(t, df=19)\n",
        "p_value"
      ]
    },
    {
      "cell_type": "markdown",
      "metadata": {
        "id": "t77WLoJnsiej"
      },
      "source": [
        "Null Hypothesis : Average Call Duration is 4 mins.\n",
        "\n",
        "Alternate Hypothesis : Average Call Duration is not 4 mins. (Either significantly higher or significantly lower than 4 mins.)\n",
        "\n",
        "Since the random chance probability (p-value) of call duration being greater than 4.48 mins is greater than 0.025, hence we shall conclude that the call duration has not significantly increased, and we fail to reject the Null Hypothesis, which says that Mean call duration is at 4mins.\n",
        "\n",
        "The variation that we see in the sample, is merely due to random chance."
      ]
    },
    {
      "cell_type": "code",
      "execution_count": 10,
      "metadata": {
        "id": "jd571TPa9IzH",
        "colab": {
          "base_uri": "https://localhost:8080/"
        },
        "outputId": "4dcf8897-db7f-4387-a3fd-825bfbef45ef"
      },
      "outputs": [
        {
          "output_type": "stream",
          "name": "stdout",
          "text": [
            "t value is 2.5927248643506733\n",
            "Lower limit of the 95% Confidence Interval is 1.4072751356493267\n",
            "Upper limit of the 95% Confidence Interval is 6.592724864350673\n"
          ]
        }
      ],
      "source": [
        "'''Assuming that a sample size of 50 calls, got an average of 5.1 mins per call,\n",
        "Let's calculate the p-value'''\n",
        "t= (5.1-4)/(3/np.sqrt(50))\n",
        "print('t value is',t)\n",
        "LL = 4-t\n",
        "UL = 4+t\n",
        "print(\"Lower limit of the 95% Confidence Interval is\", LL)\n",
        "print(\"Upper limit of the 95% Confidence Interval is\", UL)"
      ]
    },
    {
      "cell_type": "code",
      "execution_count": 11,
      "metadata": {
        "id": "ccJtViUf9IzH",
        "colab": {
          "base_uri": "https://localhost:8080/"
        },
        "outputId": "c1e33e17-f6da-4c01-d527-aa5c7059d521"
      },
      "outputs": [
        {
          "output_type": "execute_result",
          "data": {
            "text/plain": [
              "0.0062585271225307215"
            ]
          },
          "metadata": {},
          "execution_count": 11
        }
      ],
      "source": [
        "p=1-stats.t.cdf(t,df=49)\n",
        "p"
      ]
    },
    {
      "cell_type": "markdown",
      "source": [
        "Since the p-value is lesser than 0.025, we shall conclude that Alternate Hypothesis will be accepted.\n",
        "\n",
        "Average call duration has significantly increased, and some action must be taken.\n",
        "\n",
        "Let's say, if I make 100 samples of 50 calls each, & in each of the 100 samples, I see that the mean duration is always greater than 4 mins, then I will be forced to believe that the mean has actually increased, and we must train our call centre executives.\n",
        "\n",
        "But if in those 100 samples, some of them have mean of less than 4 mins, whereas others have greater than 4 mins, then we must not worry about the situation."
      ],
      "metadata": {
        "id": "HHHu-hFe6S0e"
      }
    },
    {
      "cell_type": "code",
      "execution_count": 12,
      "metadata": {
        "id": "d2WdP6f0siel",
        "colab": {
          "base_uri": "https://localhost:8080/"
        },
        "outputId": "13445185-11f5-424f-86f9-85d6367c0a54"
      },
      "outputs": [
        {
          "output_type": "stream",
          "name": "stdout",
          "text": [
            "-3.7267799624996494\n"
          ]
        },
        {
          "output_type": "execute_result",
          "data": {
            "text/plain": [
              "0.0007148636846156863"
            ]
          },
          "metadata": {},
          "execution_count": 12
        }
      ],
      "source": [
        "'''Testing the mean call duration when it is lesser than the pop mean,\n",
        "take the direct probability, without subtracting from 1\n",
        "'''\n",
        "#Pop Mean = 4 mins\n",
        "#Population Std Dev = 3 mins\n",
        "#Sample Mean = 1.5 mins\n",
        "#n = 20 calls\n",
        "\n",
        "#Null Hypothesis - The average call duration has not decreased, any variation is due to random chance error.\n",
        "#Alternate Hypothesis - The average call duration has decreased significantly.\n",
        "\n",
        "t= (1.5-4)/(3/np.sqrt(20))\n",
        "print(t)\n",
        "stats.t.cdf(t,df=19)\n",
        "\n",
        "#Since the p-value is less than 0.025, we shall conclude that average call duration has decreased significantly\n",
        "#The call centre manager will have to check the process and take corrective actions."
      ]
    },
    {
      "cell_type": "code",
      "execution_count": null,
      "metadata": {
        "id": "GhY5MkQHsiel"
      },
      "outputs": [],
      "source": [
        "#Testing the mean call duration when it is greater than the pop mean take probability subtracting from 1\n",
        "t= (5.6-4)/(3/np.sqrt(50))\n",
        "print(t)\n",
        "1 - stats.t.cdf(t,df=49)"
      ]
    },
    {
      "cell_type": "markdown",
      "metadata": {
        "id": "OZWO-xNxsiem"
      },
      "source": [
        "Since the p-value is lesser than 0.05, we shall conclude that the Alternate Hypothesis is true, and that the call duration has significantly increased."
      ]
    },
    {
      "cell_type": "code",
      "execution_count": null,
      "metadata": {
        "id": "lRULulGvsiem"
      },
      "outputs": [],
      "source": [
        "#For a 2-tailed test, always compare the p-value calculated with half of the significance level\n",
        "#So if we decide upon a significance of 5% = 0.05\n",
        "0.05/2"
      ]
    },
    {
      "cell_type": "markdown",
      "metadata": {
        "id": "y9CS1eJysien"
      },
      "source": [
        "Since the p-value>0.025 , we will conclude the Null Hypothesis to be true."
      ]
    },
    {
      "cell_type": "markdown",
      "metadata": {
        "id": "9FlSi8Q2sien"
      },
      "source": [
        "Assuming the significance level of 5%, we shall compare this p value with 0.025 instead of 0.05, since it is a 2 tailed test.\n",
        "\n",
        "Assuming the significance level of 10%, we shall compare this p value with 0.05 instead of 0.10, since it is a 2 tailed test."
      ]
    },
    {
      "cell_type": "markdown",
      "metadata": {
        "id": "u5P0CchKsien"
      },
      "source": [
        "# One sample test\n",
        "\n",
        "Is there evidence that the mean level of Salmonella in the ice cream is significantly greater than 0.3 MPN/g?\n",
        "\n",
        "Null Hypothesis : The mean level of Salmonella in the ice-cream batches is not significantly higher than 0.3 MPN/g, therefore we must continue the production.\n",
        "\n",
        "Alternate Hypothesis: The mean level of Salmonella in the ice-cream batches is significantly higher than 0.3 MPN/g, therefore we must stop the production."
      ]
    },
    {
      "cell_type": "code",
      "execution_count": 14,
      "metadata": {
        "id": "5AdMc91m9IzJ"
      },
      "outputs": [],
      "source": [
        "from scipy import stats\n",
        "import pandas as pd\n",
        "data=pd.Series([0.593, 0.142, 0.329, 0.691, 0.231, 0.793, 0.519, 0.392, 0.418])"
      ]
    },
    {
      "cell_type": "code",
      "execution_count": 15,
      "metadata": {
        "id": "HYz38Izmsien",
        "colab": {
          "base_uri": "https://localhost:8080/"
        },
        "outputId": "81665c47-440e-4c0e-f6e6-b58329538163"
      },
      "outputs": [
        {
          "output_type": "execute_result",
          "data": {
            "text/plain": [
              "0.45644444444444443"
            ]
          },
          "metadata": {},
          "execution_count": 15
        }
      ],
      "source": [
        "data.mean()"
      ]
    },
    {
      "cell_type": "code",
      "execution_count": 17,
      "metadata": {
        "id": "F7kKghKC9IzJ",
        "scrolled": true,
        "colab": {
          "base_uri": "https://localhost:8080/"
        },
        "outputId": "cb5c37c9-f661-4474-eee7-e6ce0f0c8b55"
      },
      "outputs": [
        {
          "output_type": "stream",
          "name": "stdout",
          "text": [
            "TtestResult(statistic=2.2050588385131595, pvalue=0.05853032968489765, df=8)\n",
            "0.06\n"
          ]
        }
      ],
      "source": [
        "#This gives one tail test p value\n",
        "p=stats.ttest_1samp(data,0.3)\n",
        "print(p)\n",
        "p=stats.ttest_1samp(data,0.3)[1]\n",
        "print(round(p,2))\n",
        "#Since the p-value > 0.05, we may feel that the batch of ice-cream is safe,\n",
        "#And that the amount of Salmonella is not significantly high.\n",
        "#But we might need to test again since the p-value is too close to the significance level of 0.05"
      ]
    },
    {
      "cell_type": "code",
      "execution_count": null,
      "metadata": {
        "id": "gC-QpL97sieo"
      },
      "outputs": [],
      "source": [
        "data.mean()"
      ]
    },
    {
      "cell_type": "markdown",
      "metadata": {
        "id": "OQcLaxKQ9IzK"
      },
      "source": [
        "# Two Sample test"
      ]
    },
    {
      "cell_type": "markdown",
      "metadata": {
        "id": "_9HCGm0Qsiep"
      },
      "source": [
        "Null Hypothesis : Both the samples are similar\n",
        "\n",
        "Alternate Hypothesis : Both samples are significantly different from each other"
      ]
    },
    {
      "cell_type": "code",
      "execution_count": 18,
      "metadata": {
        "id": "2H86Jc5K9IzK"
      },
      "outputs": [],
      "source": [
        "Control = pd.Series([91, 87, 99, 77, 88, 91])   #(Placebo)\n",
        "Treat = pd.Series([101, 110, 103, 93, 99, 104]) #(Drug)"
      ]
    },
    {
      "cell_type": "code",
      "source": [
        "#T-Test of Independence - To understand difference between 2 different samples/groups\n",
        "stats.ttest_ind(Control,Treat)"
      ],
      "metadata": {
        "id": "AjKWeyHnJ89t",
        "colab": {
          "base_uri": "https://localhost:8080/"
        },
        "outputId": "baa852df-f6eb-4180-f15e-da9a7d3fc654"
      },
      "execution_count": 19,
      "outputs": [
        {
          "output_type": "execute_result",
          "data": {
            "text/plain": [
              "TtestResult(statistic=-3.4456126735364876, pvalue=0.006272124350809803, df=10.0)"
            ]
          },
          "metadata": {},
          "execution_count": 19
        }
      ]
    },
    {
      "cell_type": "code",
      "execution_count": 20,
      "metadata": {
        "id": "PRp0EbAK9IzK",
        "scrolled": true,
        "colab": {
          "base_uri": "https://localhost:8080/"
        },
        "outputId": "30ea1fec-f565-4715-d37e-4540c9a3a4bd"
      },
      "outputs": [
        {
          "output_type": "execute_result",
          "data": {
            "text/plain": [
              "0.006272124350809803"
            ]
          },
          "metadata": {},
          "execution_count": 20
        }
      ],
      "source": [
        "stats.ttest_ind(Control,Treat)[1]"
      ]
    },
    {
      "cell_type": "markdown",
      "metadata": {
        "id": "UbzcCp3-siep"
      },
      "source": [
        "Since the p-value<significance level of 5%, we shall conclude alternate hypothesis to be true."
      ]
    },
    {
      "cell_type": "code",
      "execution_count": null,
      "metadata": {
        "id": "PAC1-GXPsieq"
      },
      "outputs": [],
      "source": [
        "Process_A=pd.Series([89.7,81.4,84.5,84.8,87.3,79.7,85.1,81.7,83.7,84.5])\n",
        "Process_B=pd.Series([84.7,86.1,83.2,91.9,86.3,79.3,82.6,89.1,83.7,88.5])"
      ]
    },
    {
      "cell_type": "code",
      "execution_count": null,
      "metadata": {
        "id": "fFheit8tsieq",
        "colab": {
          "base_uri": "https://localhost:8080/"
        },
        "outputId": "7a90b2de-8660-4990-a2d0-de5204eed0da"
      },
      "outputs": [
        {
          "output_type": "stream",
          "name": "stdout",
          "text": [
            "84.24000000000001\n",
            "85.54\n"
          ]
        }
      ],
      "source": [
        "print(Process_A.mean())\n",
        "print(Process_B.mean())"
      ]
    },
    {
      "cell_type": "code",
      "execution_count": null,
      "metadata": {
        "id": "NfvnB82-sieq",
        "colab": {
          "base_uri": "https://localhost:8080/"
        },
        "outputId": "07941e71-354b-44ca-ad48-b139f66aee04"
      },
      "outputs": [
        {
          "output_type": "execute_result",
          "data": {
            "text/plain": [
              "TtestResult(statistic=-0.8815771351054407, pvalue=0.38962608764018414, df=18.0)"
            ]
          },
          "metadata": {},
          "execution_count": 13
        }
      ],
      "source": [
        "stats.ttest_ind(Process_A,Process_B)"
      ]
    },
    {
      "cell_type": "markdown",
      "metadata": {
        "id": "VknW3aKosieq"
      },
      "source": [
        "Null Hypothesis: Change in Factor X does not help in increasing the yield.\n",
        "\n",
        "Alternate Hypothesis : The change in factor X helps in increasing the yield significantly.\n",
        "\n",
        "Since the p-value > 0.05, we shall conclude that the change in factor X does not increase the yield significantly."
      ]
    },
    {
      "cell_type": "code",
      "execution_count": null,
      "metadata": {
        "id": "atu7_aMJsier"
      },
      "outputs": [],
      "source": []
    },
    {
      "cell_type": "code",
      "execution_count": null,
      "metadata": {
        "id": "W--NYfDosier"
      },
      "outputs": [],
      "source": []
    },
    {
      "cell_type": "code",
      "execution_count": null,
      "metadata": {
        "id": "u6aPwc2Osier"
      },
      "outputs": [],
      "source": []
    },
    {
      "cell_type": "code",
      "execution_count": null,
      "metadata": {
        "id": "P8bUvrDzsies"
      },
      "outputs": [],
      "source": []
    },
    {
      "cell_type": "code",
      "execution_count": null,
      "metadata": {
        "id": "yZTyboT8sies"
      },
      "outputs": [],
      "source": []
    },
    {
      "cell_type": "code",
      "execution_count": null,
      "metadata": {
        "id": "bqamkFk6sies"
      },
      "outputs": [],
      "source": []
    },
    {
      "cell_type": "code",
      "execution_count": null,
      "metadata": {
        "id": "VUxesApFsies"
      },
      "outputs": [],
      "source": []
    },
    {
      "cell_type": "code",
      "execution_count": null,
      "metadata": {
        "id": "j9LbPDiasies"
      },
      "outputs": [],
      "source": []
    },
    {
      "cell_type": "code",
      "execution_count": null,
      "metadata": {
        "id": "hCzFuBgdsies"
      },
      "outputs": [],
      "source": []
    },
    {
      "cell_type": "markdown",
      "metadata": {
        "id": "94BexGGD9IzL"
      },
      "source": [
        "# 2 Proportion Test"
      ]
    },
    {
      "cell_type": "code",
      "execution_count": null,
      "metadata": {
        "id": "zYXEJkmZ9IzL"
      },
      "outputs": [],
      "source": [
        "import numpy as np"
      ]
    },
    {
      "cell_type": "code",
      "execution_count": null,
      "metadata": {
        "id": "6NHBJpRp9IzL"
      },
      "outputs": [],
      "source": [
        "'''Data:\n",
        "Null Hypothesis - Both the populations are the same\n",
        "Alternate Hypothesis - There is a statistically significant difference between the 2 populations.\n",
        "'''\n",
        "n1 = 247\n",
        "p1 = .368\n",
        "n2 = 308\n",
        "p2 = .389"
      ]
    },
    {
      "cell_type": "code",
      "execution_count": null,
      "metadata": {
        "id": "p5gM6Lar9IzM"
      },
      "outputs": [],
      "source": [
        "#population1 = np.random.binomial(1, p1, n1)\n",
        "#population2 = np.random.binomial(1, p2, n2)\n",
        "\n",
        "population1 = np.random.binomial(1, 0.368, 247)\n",
        "population2 = np.random.binomial(1, 0.389, 308)"
      ]
    },
    {
      "cell_type": "code",
      "execution_count": null,
      "metadata": {
        "id": "6McrBuJQsiet"
      },
      "outputs": [],
      "source": [
        "round(0.368*247)"
      ]
    },
    {
      "cell_type": "code",
      "execution_count": null,
      "metadata": {
        "id": "EY8EjLtPsiet"
      },
      "outputs": [],
      "source": [
        "round(0.389*308)"
      ]
    },
    {
      "cell_type": "code",
      "execution_count": null,
      "metadata": {
        "id": "347rAHWH9IzM"
      },
      "outputs": [],
      "source": [
        "population1.mean()"
      ]
    },
    {
      "cell_type": "code",
      "execution_count": null,
      "metadata": {
        "id": "wR-cpCwBsieu"
      },
      "outputs": [],
      "source": [
        "population2.mean()"
      ]
    },
    {
      "cell_type": "code",
      "execution_count": null,
      "metadata": {
        "id": "pAN5QXOYsieu"
      },
      "outputs": [],
      "source": [
        "population1"
      ]
    },
    {
      "cell_type": "code",
      "execution_count": null,
      "metadata": {
        "id": "VYCFPRg3sieu"
      },
      "outputs": [],
      "source": [
        "pd.Series(population1).value_counts()"
      ]
    },
    {
      "cell_type": "code",
      "execution_count": null,
      "metadata": {
        "id": "ikgv7zTZ9IzN"
      },
      "outputs": [],
      "source": [
        "population2"
      ]
    },
    {
      "cell_type": "code",
      "execution_count": null,
      "metadata": {
        "id": "IOK_-VPWsieu"
      },
      "outputs": [],
      "source": [
        "pd.Series(population2).value_counts()"
      ]
    },
    {
      "cell_type": "code",
      "execution_count": null,
      "metadata": {
        "id": "zEqe5V-Vsieu"
      },
      "outputs": [],
      "source": [
        "print(len(population1))\n",
        "print(len(population2))"
      ]
    },
    {
      "cell_type": "code",
      "execution_count": null,
      "metadata": {
        "id": "cOKI7ZtV9IzO"
      },
      "outputs": [],
      "source": [
        "#import statsmodels.api as sm"
      ]
    },
    {
      "cell_type": "code",
      "execution_count": null,
      "metadata": {
        "id": "iXL5-qYLsiev"
      },
      "outputs": [],
      "source": [
        "#sm.stats.ttest_ind(population1, population2)"
      ]
    },
    {
      "cell_type": "code",
      "execution_count": null,
      "metadata": {
        "id": "lLaD7lEn9IzP"
      },
      "outputs": [],
      "source": [
        "#Test of Independence\n",
        "stats.ttest_ind(population1, population2)"
      ]
    },
    {
      "cell_type": "markdown",
      "metadata": {
        "id": "ffg6NP8Bsiev"
      },
      "source": [
        "Since the p-value is < 0.05, we reject the null, which means, both the populations are statistically significantly different from each other"
      ]
    },
    {
      "cell_type": "code",
      "execution_count": null,
      "metadata": {
        "id": "QQDrk2ALsiev"
      },
      "outputs": [],
      "source": []
    },
    {
      "cell_type": "code",
      "execution_count": null,
      "metadata": {
        "id": "g5_VYLRnsiev"
      },
      "outputs": [],
      "source": [
        "students=pd.read_csv(\"https://userpage.fu-berlin.de/soga/200/2010_data_sets/students.csv\")"
      ]
    },
    {
      "cell_type": "code",
      "execution_count": null,
      "metadata": {
        "id": "0eyHVZmrsiew"
      },
      "outputs": [],
      "source": [
        "https://brainly.in/question/18672587"
      ]
    }
  ],
  "metadata": {
    "accelerator": "GPU",
    "colab": {
      "provenance": []
    },
    "kernelspec": {
      "display_name": "Python 3 (ipykernel)",
      "language": "python",
      "name": "python3"
    },
    "language_info": {
      "codemirror_mode": {
        "name": "ipython",
        "version": 3
      },
      "file_extension": ".py",
      "mimetype": "text/x-python",
      "name": "python",
      "nbconvert_exporter": "python",
      "pygments_lexer": "ipython3",
      "version": "3.9.12"
    }
  },
  "nbformat": 4,
  "nbformat_minor": 0
}