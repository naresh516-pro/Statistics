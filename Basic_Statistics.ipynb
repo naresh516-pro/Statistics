{
  "cells": [
    {
      "cell_type": "markdown",
      "source": [
        "# Measures of Central Tendencies\n",
        "\n",
        "# Mean"
      ],
      "metadata": {
        "id": "f2wKCntz3B9A"
      },
      "id": "f2wKCntz3B9A"
    },
    {
      "cell_type": "code",
      "source": [
        "a=[62,4,83,24,40,73,87,2,54,5,74,83,87,54,94,26,14,9,14]"
      ],
      "metadata": {
        "id": "HSupdpDe3DuB"
      },
      "id": "HSupdpDe3DuB",
      "execution_count": null,
      "outputs": []
    },
    {
      "cell_type": "code",
      "execution_count": null,
      "metadata": {
        "id": "678b6841",
        "colab": {
          "base_uri": "https://localhost:8080/"
        },
        "outputId": "4f5b9754-88e8-43cf-d789-f74b9cb932a7"
      },
      "outputs": [
        {
          "output_type": "stream",
          "name": "stdout",
          "text": [
            "Sum of the values in the data is:  889\n",
            "Count of the values in the data is:  19\n",
            "Mean of the values in the data is:  46.78947368421053\n"
          ]
        }
      ],
      "source": [
        "#Mean\n",
        "print('Sum of the values in the data is: ', sum(a))\n",
        "print('Count of the values in the data is: ', len(a))\n",
        "average_data = sum(a)/len(a)\n",
        "print('Mean of the values in the data is: ', average_data)"
      ],
      "id": "678b6841"
    },
    {
      "cell_type": "code",
      "source": [
        "def avg(i):\n",
        "  avg_value=sum(i)/len(i)\n",
        "  return avg_value\n",
        "a=[62,4,83,24,40,73,87,2,54,5,74,83,87,54,94,26,14,9,14]\n",
        "print('The average/mean of the data is:',avg(a))\n",
        "a=[62,4,83,24,40,73,87,2,300,5,74,83,87,54,94,26,14,9,14]\n",
        "print('The average/mean of the data after changing a value is:',avg(a))"
      ],
      "metadata": {
        "id": "ZMXdYyFN7rsc",
        "colab": {
          "base_uri": "https://localhost:8080/"
        },
        "outputId": "df53336d-24c7-4d5a-d5eb-dc182877b091"
      },
      "id": "ZMXdYyFN7rsc",
      "execution_count": null,
      "outputs": [
        {
          "output_type": "stream",
          "name": "stdout",
          "text": [
            "The average/mean of the data is: 46.78947368421053\n",
            "The average/mean of the data after changing a value is: 59.73684210526316\n"
          ]
        }
      ]
    },
    {
      "cell_type": "code",
      "source": [
        "avg([5,4,8,2,1,3,6,4])"
      ],
      "metadata": {
        "id": "bZgsAsK8vXZF",
        "colab": {
          "base_uri": "https://localhost:8080/"
        },
        "outputId": "6524be97-4416-40a4-bb6c-8b0cc88a237b"
      },
      "id": "bZgsAsK8vXZF",
      "execution_count": null,
      "outputs": [
        {
          "output_type": "execute_result",
          "data": {
            "text/plain": [
              "4.125"
            ]
          },
          "metadata": {},
          "execution_count": 6
        }
      ]
    },
    {
      "cell_type": "code",
      "source": [
        "def avg(z):\n",
        "  sum1=0\n",
        "  for i in z:\n",
        "    sum1+=i\n",
        "  len1=0\n",
        "  for i in z:\n",
        "    len1+=1\n",
        "  avg=sum1/len1\n",
        "  return avg"
      ],
      "metadata": {
        "id": "6QgVYE9G1WhP"
      },
      "id": "6QgVYE9G1WhP",
      "execution_count": null,
      "outputs": []
    },
    {
      "cell_type": "code",
      "source": [
        "avg([5,4,8,2,1,3,6,4])"
      ],
      "metadata": {
        "id": "Bah_iJXg_w0M",
        "colab": {
          "base_uri": "https://localhost:8080/"
        },
        "outputId": "c7cfb3bf-ae69-4838-fa04-3a1ae4d3ebe5"
      },
      "id": "Bah_iJXg_w0M",
      "execution_count": null,
      "outputs": [
        {
          "output_type": "execute_result",
          "data": {
            "text/plain": [
              "4.125"
            ]
          },
          "metadata": {},
          "execution_count": 5
        }
      ]
    },
    {
      "cell_type": "code",
      "source": [
        "a=[62,4,83,24,40,73,87,2,54,5,74,83,87,54,94,26,14,9,14]\n",
        "avg(a)"
      ],
      "metadata": {
        "id": "fSVPNtHMsdER"
      },
      "id": "fSVPNtHMsdER",
      "execution_count": null,
      "outputs": []
    },
    {
      "cell_type": "code",
      "execution_count": null,
      "metadata": {
        "id": "97ac0ddf"
      },
      "outputs": [],
      "source": [
        "import numpy as np\n",
        "a=[5,4,8,2,1,3,6,4]\n",
        "a=np.array(a)\n",
        "a.mean()"
      ],
      "id": "97ac0ddf"
    },
    {
      "cell_type": "code",
      "execution_count": null,
      "metadata": {
        "id": "51b2f618"
      },
      "outputs": [],
      "source": [
        "import pandas as pd\n",
        "a=pd.Series(a)\n",
        "print(a.mean())\n",
        "print(a.sum()/a.count())"
      ],
      "id": "51b2f618"
    },
    {
      "cell_type": "code",
      "execution_count": null,
      "metadata": {
        "id": "107ecfd9"
      },
      "outputs": [],
      "source": [
        "x=[62,4,83,24,40,73,87,2,54,5,74,83,87,54,94,26,14,9,14]\n",
        "sum_x=0\n",
        "for i in x:\n",
        "    sum_x+=i\n",
        "print(sum_x)\n",
        "mean_x=sum_x/len(x)\n",
        "mean_x"
      ],
      "id": "107ecfd9"
    },
    {
      "cell_type": "markdown",
      "source": [
        "# Median"
      ],
      "metadata": {
        "id": "V9QEY_ZN2-Vf"
      },
      "id": "V9QEY_ZN2-Vf"
    },
    {
      "cell_type": "code",
      "execution_count": null,
      "metadata": {
        "id": "-fPGRGBn7ase",
        "colab": {
          "base_uri": "https://localhost:8080/"
        },
        "outputId": "c1bb1726-0d4b-44f3-d8dd-6c9dbb776b9d"
      },
      "outputs": [
        {
          "output_type": "stream",
          "name": "stdout",
          "text": [
            "The count of the data is 19\n",
            "After sorting, the data is [2, 4, 5, 9, 14, 24, 26, 40, 54, 54, 56, 62, 73, 74, 83, 83, 87, 87, 94]\n",
            "Value of index is 10\n"
          ]
        }
      ],
      "source": [
        "a=[62,4,83,24,40,73,87,2,54,5,74,83,87,54,94,26,14,9,56]\n",
        "if len(a)%2==0:\n",
        "  print('The count of the data is', len(a))\n",
        "  a.sort()\n",
        "  print('After sorting, the data is', a)\n",
        "  indexvalue=len(a)/2\n",
        "  print('Value of index is',indexvalue)\n",
        "  median=(a[indexvalue-1] + a[indexvalue]).mean()\n",
        "else:\n",
        "  print('The count of the data is', len(a))\n",
        "  a.sort()\n",
        "  print('After sorting, the data is', a)\n",
        "  indexvalue=round(len(a)/2)\n",
        "  print('Value of index is',indexvalue)\n",
        "  median=a[indexvalue-1]"
      ],
      "id": "-fPGRGBn7ase"
    },
    {
      "cell_type": "code",
      "source": [
        "a=[62,4,83,24,40,73,87,2,54,5,74,83,87,54,94,26,14,9,56,52]\n",
        "if len(a)%2==0:\n",
        "  print('The count of the data is', len(a))\n",
        "  a.sort()\n",
        "  print('After sorting, the data is', a)\n",
        "  indexvalue=round(len(a)/2)\n",
        "  print('Value of index is',indexvalue)\n",
        "  median=(a[indexvalue-1] + a[indexvalue])/2\n",
        "  print('Median value is', median)\n",
        "else:\n",
        "  print('The count of the data is', len(a))\n",
        "  a.sort()\n",
        "  print('After sorting, the data is', a)\n",
        "  indexvalue=round(len(a)/2)\n",
        "  print('Value of index is',indexvalue)\n",
        "  median=a[indexvalue-1]\n",
        "  print('Median value is', median)"
      ],
      "metadata": {
        "colab": {
          "base_uri": "https://localhost:8080/"
        },
        "id": "10jt9W3TbSXM",
        "outputId": "10d35c20-1586-447b-e515-248bfc79e2dc"
      },
      "id": "10jt9W3TbSXM",
      "execution_count": null,
      "outputs": [
        {
          "output_type": "stream",
          "name": "stdout",
          "text": [
            "The count of the data is 20\n",
            "After sorting, the data is [2, 4, 5, 9, 14, 24, 26, 40, 52, 54, 54, 56, 62, 73, 74, 83, 83, 87, 87, 94]\n",
            "Value of index is 10\n",
            "Median value is 54.0\n"
          ]
        }
      ]
    },
    {
      "cell_type": "code",
      "source": [
        "int(9/2)"
      ],
      "metadata": {
        "id": "0DI1c-hG-aZL"
      },
      "id": "0DI1c-hG-aZL",
      "execution_count": null,
      "outputs": []
    },
    {
      "cell_type": "code",
      "source": [
        "def medn(i):\n",
        "  i.sort()\n",
        "  print('The sorted data is', i)\n",
        "  print('The count of the data is',len(i))\n",
        "  if len(i)%2==0:\n",
        "    indexvalue=int(len(i)/2)\n",
        "    median_val=(i[indexvalue-1] + i[indexvalue])/2\n",
        "  else:\n",
        "    indexvalue=len(i)//2\n",
        "    median_val=i[indexvalue]\n",
        "  return median_val\n",
        "\n",
        "a = [58,52,43,29,69,7,26,14,65,69,93,65,33,61,50,6,24,96,0,58,3]\n",
        "print('Median',medn(a))"
      ],
      "metadata": {
        "id": "eiStTIN9HIMS",
        "colab": {
          "base_uri": "https://localhost:8080/"
        },
        "outputId": "fd5a3a39-5ea9-414d-c645-72d0d466909a"
      },
      "id": "eiStTIN9HIMS",
      "execution_count": null,
      "outputs": [
        {
          "output_type": "stream",
          "name": "stdout",
          "text": [
            "The sorted data is [0, 3, 6, 7, 14, 24, 26, 29, 33, 43, 50, 52, 58, 58, 61, 65, 65, 69, 69, 93, 96]\n",
            "The count of the data is 21\n",
            "Median 50\n"
          ]
        }
      ]
    },
    {
      "cell_type": "code",
      "source": [
        "medn([2,4,8,5,4,7,9,6,2])"
      ],
      "metadata": {
        "id": "QkIoIyWR_FgT"
      },
      "id": "QkIoIyWR_FgT",
      "execution_count": null,
      "outputs": []
    },
    {
      "cell_type": "code",
      "source": [
        "a=[62,4,83,24,40,73,87,2,54,5,74,83,87,54,94,26,14,9,56]\n",
        "print('Odd Count Median',medn(a))"
      ],
      "metadata": {
        "id": "NI0u9HL97KWc"
      },
      "id": "NI0u9HL97KWc",
      "execution_count": null,
      "outputs": []
    },
    {
      "cell_type": "code",
      "source": [
        "a=[57,4,21,1,8,585,2,236,6]\n",
        "a.sort()\n",
        "a"
      ],
      "metadata": {
        "id": "J0wX_Z-b_ZHz"
      },
      "id": "J0wX_Z-b_ZHz",
      "execution_count": null,
      "outputs": []
    },
    {
      "cell_type": "code",
      "source": [
        "medn([57,4,21,1,8,585,2,236,6])"
      ],
      "metadata": {
        "id": "7PDxhTan7HWE"
      },
      "id": "7PDxhTan7HWE",
      "execution_count": null,
      "outputs": []
    },
    {
      "cell_type": "code",
      "source": [
        "b=[5,7,1,4,6,3,9,8,5,2,1]\n",
        "b.sort()\n",
        "b"
      ],
      "metadata": {
        "id": "dhyEFwJCE6U5"
      },
      "id": "dhyEFwJCE6U5",
      "execution_count": null,
      "outputs": []
    },
    {
      "cell_type": "code",
      "execution_count": null,
      "metadata": {
        "id": "de0c89c9"
      },
      "outputs": [],
      "source": [
        "a = [58,52,43,29,69,7,26,14,65,69,93,65,33,61,50,6,24,96,0,58]\n",
        "count = round(len(a)/2)\n",
        "print(count)\n",
        "a_sorted = sorted(a)\n",
        "a_sorted\n",
        "median = (a_sorted[count-1]+a_sorted[count])/2\n",
        "print(median)"
      ],
      "id": "de0c89c9"
    },
    {
      "cell_type": "code",
      "execution_count": null,
      "metadata": {
        "id": "2tr_MYbO3IFC"
      },
      "outputs": [],
      "source": [
        "a=[58,52,43,29,69,7,26,14,65,69,93,65,33,61,50,6,24,96,0,58]\n",
        "len(a)"
      ],
      "id": "2tr_MYbO3IFC"
    },
    {
      "cell_type": "code",
      "execution_count": null,
      "metadata": {
        "id": "2088f579"
      },
      "outputs": [],
      "source": [
        "a=[62,4,83,24,40,73,87,54,54,5,74,83,87,54,94,26,14,9,56]\n",
        "a.sort()\n",
        "print(a)\n",
        "size=len(a)\n",
        "b=size/2\n",
        "b=round(b)\n",
        "median=a[b-1]\n",
        "print(\"median is:\",median)"
      ],
      "id": "2088f579"
    },
    {
      "cell_type": "code",
      "execution_count": null,
      "metadata": {
        "id": "2196795c"
      },
      "outputs": [],
      "source": [
        "a=[62,4,83,24,40,73,87,54,54,5,74,83,87,54,94,26,14,9,56]\n",
        "a.sort()\n",
        "print(a)\n",
        "ind=round(len(a)/2)-1\n",
        "print('Index of median',ind)\n",
        "median=a[ind]\n",
        "print(\"median is:\",median)"
      ],
      "id": "2196795c"
    },
    {
      "cell_type": "code",
      "execution_count": null,
      "metadata": {
        "id": "f953831f"
      },
      "outputs": [],
      "source": [
        "a=[58,52,43,29,69,7,26,14,65,69,93,65,33,61,50,6,24,96,0,58]\n",
        "a.sort()\n",
        "print(a)\n",
        "print(len(a))\n",
        "ind1=(round(len(a)/2))-1\n",
        "ind2=ind1+1\n",
        "median=(a[ind1]+a[ind2])/2\n",
        "print(\"median is:\",median)"
      ],
      "id": "f953831f"
    },
    {
      "cell_type": "code",
      "execution_count": null,
      "metadata": {
        "id": "Hqsh3UPFEBON"
      },
      "outputs": [],
      "source": [
        "a=[58,52,43,29,69,7,26,14,65,69,93,65,33,61,50,6,24,96,0,58]\n",
        "n = len(a)\n",
        "a.sort()\n",
        "\n",
        "if n % 2 == 0:\n",
        "    median = ((a[round(n/2)]) + (a[round((n/2) - 1)]))/2\n",
        "else:\n",
        "    median = a[round(n/2)]\n",
        "print(\"Median is: \" + str(median))\n"
      ],
      "id": "Hqsh3UPFEBON"
    },
    {
      "cell_type": "code",
      "source": [
        "a=pd.Series([58,52,43,29,69,7,26,14,65,69,93,65,33,61,50,6,24,96,0,58])\n",
        "a.median()"
      ],
      "metadata": {
        "id": "5Y9fGwd4yzdN"
      },
      "id": "5Y9fGwd4yzdN",
      "execution_count": null,
      "outputs": []
    },
    {
      "cell_type": "markdown",
      "source": [
        "# Mode"
      ],
      "metadata": {
        "id": "NVj4Inbf25yD"
      },
      "id": "NVj4Inbf25yD"
    },
    {
      "cell_type": "code",
      "source": [
        "# Mode\n",
        "count=0\n",
        "mode_list1=[]\n",
        "mode_list2=[]\n",
        "mode_list=[1, 2, 4, 5, 8, 2, 1, 4, 5, 6, 9, 3, 5, 2, 4]\n",
        "print('Initial List of the values:', mode_list1)\n",
        "for i in mode_list:\n",
        "  if i not in mode_list1:\n",
        "    mode_list1.append(i)\n",
        "print('The unique values in the list:', mode_list1)\n",
        "for i in mode_list1: #1 2 4 5 8 6 9 3\n",
        "  for j in mode_list: #1, 2, 4, 5, 8, 2, 1, 4, 5, 6, 9, 3, 5, 2, 4\n",
        "    if i == j:\n",
        "      count+=1\n",
        "  mode_list2.append(count)\n",
        "  count=0\n",
        "print('Frequency of the each value:', mode_list2)\n",
        "Higher_Frequncy=max(mode_list2)\n",
        "print('Hightest Frequency', Higher_Frequncy)\n",
        "print('The mode of the values are:')\n",
        "for k in range(len(mode_list2)):\n",
        "  if mode_list2[k]==Higher_Frequncy:\n",
        "    print(mode_list1[k])"
      ],
      "metadata": {
        "id": "mZAXEb70_jHa"
      },
      "id": "mZAXEb70_jHa",
      "execution_count": null,
      "outputs": []
    },
    {
      "cell_type": "code",
      "execution_count": null,
      "metadata": {
        "id": "xbEkbcyB9pWV",
        "colab": {
          "base_uri": "https://localhost:8080/"
        },
        "outputId": "55167182-4780-47e1-e132-6c84954ac32e"
      },
      "outputs": [
        {
          "output_type": "stream",
          "name": "stdout",
          "text": [
            "0    2\n",
            "1    4\n",
            "dtype: int64\n"
          ]
        }
      ],
      "source": [
        "import pandas as pd\n",
        "a=pd.Series([1,2,4,5,8,2,1,4,5,6,9,3,5,2,4,2,4])\n",
        "mode=a.mode()\n",
        "print(mode)"
      ],
      "id": "xbEkbcyB9pWV"
    },
    {
      "cell_type": "code",
      "source": [
        "import pandas as pd\n",
        "#To find values with maximum frequency / Mode\n",
        "a=[1,2,4,5,8,2,1,4,5,6,9,3,5,2,4,2,4]\n",
        "new_df=pd.DataFrame(pd.Series(a).value_counts())\n",
        "print(new_df)\n",
        "print('----------------------------------')\n",
        "print(new_df[new_df.iloc[:,0]==new_df.iloc[0,0]])\n",
        "print('----------------------------------')\n",
        "list(new_df[new_df.iloc[:,0]==new_df.iloc[0,0]].index[:])"
      ],
      "metadata": {
        "id": "-Jxbgcg8zHgX",
        "colab": {
          "base_uri": "https://localhost:8080/"
        },
        "outputId": "1135b3fe-0315-47f0-e9bf-117668235592"
      },
      "id": "-Jxbgcg8zHgX",
      "execution_count": null,
      "outputs": [
        {
          "output_type": "stream",
          "name": "stdout",
          "text": [
            "   count\n",
            "2      4\n",
            "4      4\n",
            "5      3\n",
            "1      2\n",
            "8      1\n",
            "6      1\n",
            "9      1\n",
            "3      1\n",
            "----------------------------------\n",
            "   count\n",
            "2      4\n",
            "4      4\n",
            "----------------------------------\n"
          ]
        },
        {
          "output_type": "execute_result",
          "data": {
            "text/plain": [
              "[2, 4]"
            ]
          },
          "metadata": {},
          "execution_count": 2
        }
      ]
    },
    {
      "cell_type": "code",
      "source": [
        "import numpy as np\n",
        "arr = [1,2,4,5,9,2,1,4,5,6,9,3,5,2,4]\n",
        "unique_arr,counts = np.unique(arr,return_counts=True)\n",
        "#print(unique_arr)\n",
        "#print(counts)\n",
        "mode = unique_arr[counts==np.max(counts)]\n",
        "list(mode)"
      ],
      "metadata": {
        "colab": {
          "base_uri": "https://localhost:8080/"
        },
        "id": "XGpJxiYnEF01",
        "outputId": "6eab8ef1-a7f3-43e1-f7c1-df63373f3cd1"
      },
      "id": "XGpJxiYnEF01",
      "execution_count": null,
      "outputs": [
        {
          "output_type": "execute_result",
          "data": {
            "text/plain": [
              "[2, 4, 5]"
            ]
          },
          "metadata": {},
          "execution_count": 13
        }
      ]
    },
    {
      "cell_type": "code",
      "source": [
        "import pandas as pd\n",
        "a=[1,2,4,5,8,2,1,4,5,6,9,3,5,2,4]\n",
        "new_df=pd.DataFrame(pd.Series(a).value_counts(),columns=['Counts'])\n",
        "new_df"
      ],
      "metadata": {
        "id": "JtkECPnc3_2M"
      },
      "id": "JtkECPnc3_2M",
      "execution_count": null,
      "outputs": []
    },
    {
      "cell_type": "code",
      "source": [
        "new_df.iloc[0,0]"
      ],
      "metadata": {
        "id": "lw5dhi1q6u_U"
      },
      "id": "lw5dhi1q6u_U",
      "execution_count": null,
      "outputs": []
    },
    {
      "cell_type": "code",
      "source": [
        "new_df.iloc[:,0]"
      ],
      "metadata": {
        "id": "8K_rwT0m-wfS"
      },
      "id": "8K_rwT0m-wfS",
      "execution_count": null,
      "outputs": []
    },
    {
      "cell_type": "code",
      "source": [
        "new_df[new_df.iloc[:,0]==new_df.iloc[0,0]]"
      ],
      "metadata": {
        "id": "3ipdDTkQ-9rG"
      },
      "id": "3ipdDTkQ-9rG",
      "execution_count": null,
      "outputs": []
    },
    {
      "cell_type": "code",
      "source": [
        "new_df[new_df.iloc[:,0]==new_df.iloc[0,0]].index[:]"
      ],
      "metadata": {
        "id": "YaV-b_kh_Get"
      },
      "id": "YaV-b_kh_Get",
      "execution_count": null,
      "outputs": []
    },
    {
      "cell_type": "code",
      "source": [
        "import pandas as pd\n",
        "a=pd.Series([1,2,4,5,8,2,1,4,5,6,9,3,5,2,4])\n",
        "a.value_counts()"
      ],
      "metadata": {
        "id": "YYgUfX-OwQ3f"
      },
      "id": "YYgUfX-OwQ3f",
      "execution_count": null,
      "outputs": []
    },
    {
      "cell_type": "code",
      "source": [
        "new_df=pd.DataFrame(pd.Series(a).value_counts(),columns=['Counts'])\n",
        "new_df"
      ],
      "metadata": {
        "id": "SXe28CbxxCuG"
      },
      "id": "SXe28CbxxCuG",
      "execution_count": null,
      "outputs": []
    },
    {
      "cell_type": "code",
      "source": [
        "def mode_value(i):\n",
        "  new_df=pd.DataFrame(pd.Series(i).value_counts(),columns=['Counts'])\n",
        "  mode_value=list(new_df[new_df.iloc[:,0]==new_df.iloc[0,0]].index[:])\n",
        "  return mode_value"
      ],
      "metadata": {
        "id": "WR1zTwDU46vp"
      },
      "id": "WR1zTwDU46vp",
      "execution_count": null,
      "outputs": []
    },
    {
      "cell_type": "code",
      "source": [
        "a=[1,2,4,5,8,2,1,4,5,6,9,3,5,2,4,1,2,8,2,4,6,4]\n",
        "mode_value(a)"
      ],
      "metadata": {
        "id": "OUnUhgYf5RKk"
      },
      "id": "OUnUhgYf5RKk",
      "execution_count": null,
      "outputs": []
    },
    {
      "cell_type": "code",
      "source": [
        "def mode_value(i):\n",
        "  new_df=pd.DataFrame(pd.Series(i).value_counts(),columns=['Counts'])\n",
        "  print(new_df)\n",
        "  mode_value=list(new_df[new_df.iloc[:,0]==new_df.iloc[0,0]].index[:])\n",
        "  return mode_value"
      ],
      "metadata": {
        "id": "2FIDgCfayeb6"
      },
      "id": "2FIDgCfayeb6",
      "execution_count": null,
      "outputs": []
    },
    {
      "cell_type": "code",
      "source": [
        "a=[1,2,4,5,8,2,1,4,5,6,9,3,5,2,4,1,2,8,2,4,6,4]\n",
        "mode_value(a)"
      ],
      "metadata": {
        "id": "VyRrjzpiymXb"
      },
      "id": "VyRrjzpiymXb",
      "execution_count": null,
      "outputs": []
    },
    {
      "cell_type": "code",
      "source": [
        "#To find values with minimum frequency\n",
        "a=[1,2,4,5,8,2,1,4,5,6,9,3,5,2,4]\n",
        "new_df=pd.DataFrame(pd.Series(a).value_counts(),columns=['Counts'])\n",
        "print(new_df)\n",
        "print(new_df[new_df.iloc[:,0]==new_df.iloc[-1,0]])\n",
        "list(new_df[new_df.iloc[:,0]==new_df.iloc[-1,0]].index[:])"
      ],
      "metadata": {
        "id": "00gpaymcU6YZ"
      },
      "id": "00gpaymcU6YZ",
      "execution_count": null,
      "outputs": []
    },
    {
      "cell_type": "code",
      "source": [
        "#To find values with a specific frequency\n",
        "a=[1,2,4,5,8,2,1,4,5,6,9,3,5,2,4]\n",
        "new_df=pd.DataFrame(pd.Series(a).value_counts(),columns=['Counts'])\n",
        "print(new_df)\n",
        "print(new_df[new_df.iloc[:,0]==2])\n",
        "list(new_df[new_df.iloc[:,0]==2].index[:])"
      ],
      "metadata": {
        "id": "iuPLXeLWVGlv"
      },
      "id": "iuPLXeLWVGlv",
      "execution_count": null,
      "outputs": []
    },
    {
      "cell_type": "code",
      "source": [
        "def min_max_values(i):\n",
        "  new_df=pd.DataFrame(pd.Series(i).value_counts(),columns=['Counts'])\n",
        "  min_val=list(new_df[new_df.iloc[:,0]==new_df.iloc[-1,0]].index[:])\n",
        "  max_val=list(new_df[new_df.iloc[:,0]==new_df.iloc[0,0]].index[:])\n",
        "  return min_val,max_val\n",
        "\n",
        "a=[1,2,4,5,8,2,1,4,5,6,9,3,5,2,4]\n",
        "min_max_values(a)"
      ],
      "metadata": {
        "id": "rS-Wxa4WXvht"
      },
      "id": "rS-Wxa4WXvht",
      "execution_count": null,
      "outputs": []
    },
    {
      "cell_type": "code",
      "execution_count": null,
      "metadata": {
        "id": "8bded309"
      },
      "outputs": [],
      "source": [
        "import pandas as pd\n",
        "\n",
        "a=[0,1,2,4,32,20,27,28,30,32,33,32,41,45,32,59,61,66,75,84,84,32,96]\n",
        "pd.Series(a).value_counts()\n",
        "pd.Series(a).value_counts().index[0]"
      ],
      "id": "8bded309"
    },
    {
      "cell_type": "code",
      "execution_count": null,
      "metadata": {
        "id": "qWA32ykdG5eN"
      },
      "outputs": [],
      "source": [
        "a=[1,2,4,5,8,2,1,4,5,6,9,3,5,2,4]\n",
        "Mode=[]\n",
        "maxfreq=1\n",
        "for i in a:\n",
        "  freq=a.count(i)\n",
        "  if freq>maxfreq:\n",
        "    maxfreq=freq\n",
        "    num=i\n",
        "    print('Mode of', i, maxfreq)\n",
        "\n",
        "\n",
        "#Mode.append(i)\n",
        "#print(Mode)"
      ],
      "id": "qWA32ykdG5eN"
    },
    {
      "cell_type": "code",
      "execution_count": null,
      "metadata": {
        "id": "e76b5e27"
      },
      "outputs": [],
      "source": [
        "import numpy as np\n",
        "array = np.array([1,2,4,5,8,2,1,4,5,6,9,3,5,2])\n",
        "vals,counts = np.unique(array, return_counts=True)\n",
        "index = np.argmax(counts)\n",
        "print(vals[index])"
      ],
      "id": "e76b5e27"
    },
    {
      "cell_type": "code",
      "execution_count": null,
      "metadata": {
        "id": "DEtfFCqm-zNK"
      },
      "outputs": [],
      "source": [
        "#Calculation of Mode\n",
        "x=[1,2,4,5,8,2,1,4,5,6,9,3,5,2,4]\n",
        "x.sort()\n",
        "print(x)\n",
        "dict1={}\n",
        "for i in x:\n",
        "    dict1[i]=x.count(i)\n",
        "print(dict1)\n",
        "mode = [k for k, v in dict1.items() if v == max(dict1.values())]\n",
        "print(\"mode is\",mode)"
      ],
      "id": "DEtfFCqm-zNK"
    },
    {
      "cell_type": "code",
      "execution_count": null,
      "metadata": {
        "id": "96f5f697"
      },
      "outputs": [],
      "source": [
        "list1=[]\n",
        "n=int(input('Enter the count of numbers:'))\n",
        "for i in range (0,n):\n",
        "    num=int(input())\n",
        "    list1.append(num)\n",
        "print(list1)\n",
        "c=0\n",
        "mode=set()\n",
        "for i in range(0,len(list1)):     #i=0,1,2,3,4,5,6,7,8\n",
        "    c1=0\n",
        "    for j in range (0,len(list1)):  #j=0,1,2,3,4,5,6,7,8\n",
        "        if list1[i]==list1[j]:\n",
        "            c1+=1\n",
        "    if c1>c:\n",
        "        c=c1\n",
        "        mode=set()\n",
        "        mode.add(list1[i])\n",
        "    elif c1==c:\n",
        "        mode.add(list1[i])\n",
        "print(mode)"
      ],
      "id": "96f5f697"
    },
    {
      "cell_type": "markdown",
      "metadata": {
        "id": "hOAzUCaXKDxr"
      },
      "source": [
        "# Minimum, Maximum & Range"
      ],
      "id": "hOAzUCaXKDxr"
    },
    {
      "cell_type": "code",
      "execution_count": null,
      "metadata": {
        "id": "ZLFJ318KKH2T"
      },
      "outputs": [],
      "source": [
        "#Program to find minimum value\n",
        "a=[58,52,43,29,69,7,26,14,65,69,93,65,33,61,50,6,24]\n",
        "a.sort()\n",
        "print(a)\n",
        "print('Minimum value is: ', a[0])\n",
        "print('Maximum value is: ', a[-1])"
      ],
      "id": "ZLFJ318KKH2T"
    },
    {
      "cell_type": "code",
      "execution_count": null,
      "metadata": {
        "id": "oDrbloMMK020"
      },
      "outputs": [],
      "source": [
        "import numpy as np\n",
        "a=np.random.randint(1,100,20)\n",
        "print(a)\n",
        "#a=[58,52,43,29,69,7,26,14,65,69,93,65,33,61,50,6,24]\n",
        "#[24 72 22 33 57 16 30 34 35 96 26 76 93  5 71 62 99  9 39 24]\n",
        "min_val=a[0]\n",
        "for i in a:\n",
        "  if min_val<i:\n",
        "    min_val=min_val\n",
        "  else:\n",
        "    min_val=i\n",
        "print('Minimum Value by for loop: ',min_val)\n",
        "print('Minimum Value by built-in function: ',min(a))"
      ],
      "id": "oDrbloMMK020"
    },
    {
      "cell_type": "code",
      "source": [
        "def min_val(a):\n",
        "  min_val=a[0]\n",
        "  for i in a:\n",
        "    if min_val<i:\n",
        "      min_val=min_val\n",
        "    else:\n",
        "      min_val=i\n",
        "  return min_val\n",
        "\n",
        "a=[58,52,43,29,69,7,26,14,65,69,93,65,33,61,50,6,24]\n",
        "min_val(a)"
      ],
      "metadata": {
        "id": "3uOh1ak_BrM7"
      },
      "id": "3uOh1ak_BrM7",
      "execution_count": null,
      "outputs": []
    },
    {
      "cell_type": "code",
      "source": [
        "min_val([58,52,43,29,69,7,26,14,65,69,93,65,33,61,50,6,24])"
      ],
      "metadata": {
        "id": "qBp-qEsLCBuy"
      },
      "id": "qBp-qEsLCBuy",
      "execution_count": null,
      "outputs": []
    },
    {
      "cell_type": "code",
      "execution_count": null,
      "metadata": {
        "id": "YcYWIl9SLM5T"
      },
      "outputs": [],
      "source": [
        "#Maximum Value\n",
        "a=[58,52,43,29,69,7,26,14,65,69,93,65,33,61,50,6,24]\n",
        "max_val=a[0]\n",
        "for i in a:\n",
        "  if max_val>i:\n",
        "    max_val=max_val\n",
        "  else:\n",
        "    max_val=i\n",
        "print('Maximum Value by for loop: ',max_val)\n",
        "print('Maximum Value by built-in function: ',max(a))"
      ],
      "id": "YcYWIl9SLM5T"
    },
    {
      "cell_type": "code",
      "source": [
        "def max_val(i):\n",
        "  max_val=a[0]\n",
        "  for i in a:\n",
        "    if max_val>i:\n",
        "      max_val=max_val\n",
        "    else:\n",
        "      max_val=i\n",
        "  return max_val\n",
        "\n",
        "max_val([58,52,43,29,69,7,26,14,65,69,93,65,33,61,50,6,24])"
      ],
      "metadata": {
        "id": "uERK1m2uDfU2"
      },
      "id": "uERK1m2uDfU2",
      "execution_count": null,
      "outputs": []
    },
    {
      "cell_type": "code",
      "execution_count": null,
      "metadata": {
        "id": "mcWdOfJbOEgk"
      },
      "outputs": [],
      "source": [
        "a=[58,52,43,29,69,7,26,14,65,69,93,65,33,61,50,6,24]\n",
        "print(min(a))\n",
        "print(max(a))\n",
        "Range = max(a) - min(a)\n",
        "Range"
      ],
      "id": "mcWdOfJbOEgk"
    },
    {
      "cell_type": "markdown",
      "metadata": {
        "id": "206b5724"
      },
      "source": [
        "# Variance & Standard Deviation"
      ],
      "id": "206b5724"
    },
    {
      "cell_type": "code",
      "execution_count": null,
      "metadata": {
        "id": "syFbqkvzW1jh",
        "colab": {
          "base_uri": "https://localhost:8080/"
        },
        "outputId": "ee4621c8-c776-4322-cbb4-b603016ad61b"
      },
      "outputs": [
        {
          "output_type": "stream",
          "name": "stdout",
          "text": [
            "Mean of the data is:  48.611111111111114\n",
            "     X     X-Mean  (X-Mean)**2\n",
            "0   62  13.388889   179.262346\n",
            "1    4 -44.611111  1990.151235\n",
            "2   83  34.388889  1182.595679\n",
            "3   24 -24.611111   605.706790\n",
            "4   40  -8.611111    74.151235\n",
            "5   73  24.388889   594.817901\n",
            "6   87  38.388889  1473.706790\n",
            "7    2 -46.611111  2172.595679\n",
            "8   54   5.388889    29.040123\n",
            "9    5 -43.611111  1901.929012\n",
            "10  74  25.388889   644.595679\n",
            "11  83  34.388889  1182.595679\n",
            "12  87  38.388889  1473.706790\n",
            "13  54   5.388889    29.040123\n",
            "14  94  45.388889  2060.151235\n",
            "15  26 -22.611111   511.262346\n",
            "16  14 -34.611111  1197.929012\n",
            "17   9 -39.611111  1569.040123\n",
            "Sum of the squared differences from the mean is:  18872.27777777778\n",
            "Count of the data minus one is:  17\n",
            "Variance of the data is:  1110.1339869281048\n",
            "Standard Deviation of the data is:  33.31867324681619\n"
          ]
        }
      ],
      "source": [
        "import pandas as pd\n",
        "import numpy as np\n",
        "df=pd.DataFrame()\n",
        "df['X']=pd.Series([62,4,83,24,40,73,87,2,54,5,74,83,87,54,94,26,14,9])\n",
        "print('Mean of the data is: ', np.mean(df['X']))\n",
        "df['X-Mean']=df['X'] - np.mean(df['X'])\n",
        "df['(X-Mean)**2']=df['X-Mean']**2\n",
        "print(df)\n",
        "print('Sum of the squared differences from the mean is: ', sum(df['(X-Mean)**2']))\n",
        "print('Count of the data minus one is: ', len(df['X']) - 1)\n",
        "Variance = (sum(df['(X-Mean)**2'])) / (len(df['X']) - 1)\n",
        "print('Variance of the data is: ',Variance)\n",
        "St_Dev=np.sqrt(Variance)\n",
        "print('Standard Deviation of the data is: ',St_Dev)"
      ],
      "id": "syFbqkvzW1jh"
    },
    {
      "cell_type": "code",
      "execution_count": null,
      "metadata": {
        "id": "ZtGuNwpq7n9X"
      },
      "outputs": [],
      "source": [
        "import numpy as np\n",
        "def variance(val):\n",
        "  devi=[(x-(sum(val)/len(val)))**2 for x in val]\n",
        "  variance=sum(devi)/(len(val) - 1)\n",
        "  return variance\n",
        "print('Variance',variance([6,6,3,9,4,3,6,9,7,8]))"
      ],
      "id": "ZtGuNwpq7n9X"
    },
    {
      "cell_type": "code",
      "source": [
        "import numpy as np\n",
        "def st_dev(val):\n",
        "  devi=[(x-(sum(val)/len(val)))**2 for x in val]\n",
        "  st_dev=np.sqrt(sum(devi)/(len(val) - 1))\n",
        "  return st_dev\n",
        "print('Standard Deviation',st_dev([6,6,3,9,4,3,6,9,7,8]))"
      ],
      "metadata": {
        "id": "peGRMeaJf0oU"
      },
      "id": "peGRMeaJf0oU",
      "execution_count": null,
      "outputs": []
    },
    {
      "cell_type": "code",
      "execution_count": null,
      "metadata": {
        "id": "vhM63j1AOhn4"
      },
      "outputs": [],
      "source": [],
      "id": "vhM63j1AOhn4"
    },
    {
      "cell_type": "code",
      "execution_count": null,
      "metadata": {
        "id": "LsihhPRFMqR8"
      },
      "outputs": [],
      "source": [
        "import numpy as np\n",
        "b = [58,52,43,29,69,7,26,14,65,69,93,65,50,6,24]\n",
        "a=np.array(b)\n",
        "avg = sum(b)/len(b)\n",
        "list1 =[]\n",
        "for i in b:\n",
        "    list1.append((avg-i)**2)\n",
        "sum1 =sum(list1)\n",
        "variance = sum1/(len(list1)-1)\n",
        "std = np.sqrt(variance)\n",
        "print(variance)\n",
        "print(std)"
      ],
      "id": "LsihhPRFMqR8"
    },
    {
      "cell_type": "code",
      "execution_count": null,
      "metadata": {
        "id": "56fbd266"
      },
      "outputs": [],
      "source": [
        "import numpy as np\n",
        "x=[58,52,43,29,69,7,26,14,65,69,93,65,33,61,50,6,24]\n",
        "a=np.mean(x)\n",
        "print('mean=',a)\n",
        "s=0\n",
        "v=0\n",
        "for i in x:\n",
        "    s=(i-a)\n",
        "    v=v+(s*s)\n",
        "d=len(x)\n",
        "d=d-1\n",
        "l=v/d\n",
        "print('variance=',l)\n",
        "print('sd=',l**(1/2))"
      ],
      "id": "56fbd266"
    },
    {
      "cell_type": "code",
      "execution_count": null,
      "metadata": {
        "id": "7a6eb171"
      },
      "outputs": [],
      "source": [
        "import pandas as pd\n",
        "import numpy as np\n",
        "a=[58,52,43,29,69,7,26,14,65,69,93,65,33,61,50,6,24]\n",
        "df=pd.DataFrame(a,columns=['x'])\n",
        "df['x-mean']=df.x-np.mean(df.x)\n",
        "df['sq_x-mean']=np.square(df['x-mean'])\n",
        "variance=np.sum(df['sq_x-mean'])/(len(df.x)-1)\n",
        "std=np.sqrt(variance)\n",
        "print(df)\n",
        "print('variance=',variance)\n",
        "print('std=',std)"
      ],
      "id": "7a6eb171"
    },
    {
      "cell_type": "code",
      "execution_count": null,
      "metadata": {
        "id": "261a9ff5"
      },
      "outputs": [],
      "source": [
        "import numpy as np\n",
        "a=[58,52,43,29,69,7,26,14,65,69,93,65,33,61,50,6,24]\n",
        "a=np.array(a)\n",
        "print('variance=',np.var(a))\n",
        "print('std=',np.std(a))"
      ],
      "id": "261a9ff5"
    },
    {
      "cell_type": "code",
      "execution_count": null,
      "metadata": {
        "id": "47baec53"
      },
      "outputs": [],
      "source": [
        "a=[58,52,43,29,69,7,26,14,65,69,93,65,33,61,50,6,24]\n",
        "print('Minimum_Value is',min(a))\n",
        "print('Maximum_Value is',max(a))\n",
        "print('Range of the data is',max(a) - min(a))"
      ],
      "id": "47baec53"
    },
    {
      "cell_type": "code",
      "execution_count": null,
      "metadata": {
        "id": "o0uH3TWt8vO7"
      },
      "outputs": [],
      "source": [
        "import pandas as pd\n",
        "import numpy as np\n",
        "a=pd.Series([58,52,43,29,69,7,26,14,65,69,93,65,50,6,24])\n",
        "dev=[(i-(sum(a)/len(a)))**2 for i in a]\n",
        "print(dev)\n",
        "var=np.sum(dev)/(len(a)-1)\n",
        "print(\"variance is:\", var)\n",
        "std=np.sqrt(var)\n",
        "print(\"std deviation is:\", std)"
      ],
      "id": "o0uH3TWt8vO7"
    },
    {
      "cell_type": "code",
      "execution_count": null,
      "metadata": {
        "id": "fb8800b7",
        "scrolled": true
      },
      "outputs": [],
      "source": [
        "import pandas as pd\n",
        "import numpy as np\n",
        "a=pd.Series([58,52,43,29,69,7,26,14,65,69,93,65,50,6,24])\n",
        "dev=[(i-a.mean())**2 for i in a]\n",
        "var=np.sum(dev)/(len(a)-1)\n",
        "print(\"variance is:\", var)\n",
        "std=np.sqrt(var)\n",
        "print(\"std deviation is:\", std)"
      ],
      "id": "fb8800b7"
    },
    {
      "cell_type": "code",
      "execution_count": null,
      "metadata": {
        "id": "29d626b3"
      },
      "outputs": [],
      "source": [
        "import pandas as pd\n",
        "import numpy as np\n",
        "a=[58,52,43,29,69,7,26,14,65,69,93,65,50,6,24]\n",
        "a=pd.Series([58,52,43,29,69,7,26,14,65,69,93,65,50,6,24])\n",
        "x=a.mean()\n",
        "dev=[(i-x)**2 for i in a]\n",
        "n=len(a)\n",
        "var=np.sum(dev)/(n-1)\n",
        "print(\"variance is:\", var)\n",
        "std=np.sqrt(var)\n",
        "print(\"std deviation is:\", std)"
      ],
      "id": "29d626b3"
    },
    {
      "cell_type": "code",
      "execution_count": null,
      "metadata": {
        "id": "OmwnN-0OH3Pn"
      },
      "outputs": [],
      "source": [],
      "id": "OmwnN-0OH3Pn"
    },
    {
      "cell_type": "code",
      "execution_count": null,
      "metadata": {
        "colab": {
          "base_uri": "https://localhost:8080/",
          "height": 90
        },
        "id": "YM3o5DBkV5zp",
        "outputId": "f3b7969c-242b-43fa-907a-5da563523281"
      },
      "outputs": [
        {
          "output_type": "display_data",
          "data": {
            "text/plain": [
              "<IPython.core.display.HTML object>"
            ],
            "text/html": [
              "\n",
              "     <input type=\"file\" id=\"files-c6768446-926f-40a6-94a1-b53da7ffa294\" name=\"files[]\" multiple disabled\n",
              "        style=\"border:none\" />\n",
              "     <output id=\"result-c6768446-926f-40a6-94a1-b53da7ffa294\">\n",
              "      Upload widget is only available when the cell has been executed in the\n",
              "      current browser session. Please rerun this cell to enable.\n",
              "      </output>\n",
              "      <script>// Copyright 2017 Google LLC\n",
              "//\n",
              "// Licensed under the Apache License, Version 2.0 (the \"License\");\n",
              "// you may not use this file except in compliance with the License.\n",
              "// You may obtain a copy of the License at\n",
              "//\n",
              "//      http://www.apache.org/licenses/LICENSE-2.0\n",
              "//\n",
              "// Unless required by applicable law or agreed to in writing, software\n",
              "// distributed under the License is distributed on an \"AS IS\" BASIS,\n",
              "// WITHOUT WARRANTIES OR CONDITIONS OF ANY KIND, either express or implied.\n",
              "// See the License for the specific language governing permissions and\n",
              "// limitations under the License.\n",
              "\n",
              "/**\n",
              " * @fileoverview Helpers for google.colab Python module.\n",
              " */\n",
              "(function(scope) {\n",
              "function span(text, styleAttributes = {}) {\n",
              "  const element = document.createElement('span');\n",
              "  element.textContent = text;\n",
              "  for (const key of Object.keys(styleAttributes)) {\n",
              "    element.style[key] = styleAttributes[key];\n",
              "  }\n",
              "  return element;\n",
              "}\n",
              "\n",
              "// Max number of bytes which will be uploaded at a time.\n",
              "const MAX_PAYLOAD_SIZE = 100 * 1024;\n",
              "\n",
              "function _uploadFiles(inputId, outputId) {\n",
              "  const steps = uploadFilesStep(inputId, outputId);\n",
              "  const outputElement = document.getElementById(outputId);\n",
              "  // Cache steps on the outputElement to make it available for the next call\n",
              "  // to uploadFilesContinue from Python.\n",
              "  outputElement.steps = steps;\n",
              "\n",
              "  return _uploadFilesContinue(outputId);\n",
              "}\n",
              "\n",
              "// This is roughly an async generator (not supported in the browser yet),\n",
              "// where there are multiple asynchronous steps and the Python side is going\n",
              "// to poll for completion of each step.\n",
              "// This uses a Promise to block the python side on completion of each step,\n",
              "// then passes the result of the previous step as the input to the next step.\n",
              "function _uploadFilesContinue(outputId) {\n",
              "  const outputElement = document.getElementById(outputId);\n",
              "  const steps = outputElement.steps;\n",
              "\n",
              "  const next = steps.next(outputElement.lastPromiseValue);\n",
              "  return Promise.resolve(next.value.promise).then((value) => {\n",
              "    // Cache the last promise value to make it available to the next\n",
              "    // step of the generator.\n",
              "    outputElement.lastPromiseValue = value;\n",
              "    return next.value.response;\n",
              "  });\n",
              "}\n",
              "\n",
              "/**\n",
              " * Generator function which is called between each async step of the upload\n",
              " * process.\n",
              " * @param {string} inputId Element ID of the input file picker element.\n",
              " * @param {string} outputId Element ID of the output display.\n",
              " * @return {!Iterable<!Object>} Iterable of next steps.\n",
              " */\n",
              "function* uploadFilesStep(inputId, outputId) {\n",
              "  const inputElement = document.getElementById(inputId);\n",
              "  inputElement.disabled = false;\n",
              "\n",
              "  const outputElement = document.getElementById(outputId);\n",
              "  outputElement.innerHTML = '';\n",
              "\n",
              "  const pickedPromise = new Promise((resolve) => {\n",
              "    inputElement.addEventListener('change', (e) => {\n",
              "      resolve(e.target.files);\n",
              "    });\n",
              "  });\n",
              "\n",
              "  const cancel = document.createElement('button');\n",
              "  inputElement.parentElement.appendChild(cancel);\n",
              "  cancel.textContent = 'Cancel upload';\n",
              "  const cancelPromise = new Promise((resolve) => {\n",
              "    cancel.onclick = () => {\n",
              "      resolve(null);\n",
              "    };\n",
              "  });\n",
              "\n",
              "  // Wait for the user to pick the files.\n",
              "  const files = yield {\n",
              "    promise: Promise.race([pickedPromise, cancelPromise]),\n",
              "    response: {\n",
              "      action: 'starting',\n",
              "    }\n",
              "  };\n",
              "\n",
              "  cancel.remove();\n",
              "\n",
              "  // Disable the input element since further picks are not allowed.\n",
              "  inputElement.disabled = true;\n",
              "\n",
              "  if (!files) {\n",
              "    return {\n",
              "      response: {\n",
              "        action: 'complete',\n",
              "      }\n",
              "    };\n",
              "  }\n",
              "\n",
              "  for (const file of files) {\n",
              "    const li = document.createElement('li');\n",
              "    li.append(span(file.name, {fontWeight: 'bold'}));\n",
              "    li.append(span(\n",
              "        `(${file.type || 'n/a'}) - ${file.size} bytes, ` +\n",
              "        `last modified: ${\n",
              "            file.lastModifiedDate ? file.lastModifiedDate.toLocaleDateString() :\n",
              "                                    'n/a'} - `));\n",
              "    const percent = span('0% done');\n",
              "    li.appendChild(percent);\n",
              "\n",
              "    outputElement.appendChild(li);\n",
              "\n",
              "    const fileDataPromise = new Promise((resolve) => {\n",
              "      const reader = new FileReader();\n",
              "      reader.onload = (e) => {\n",
              "        resolve(e.target.result);\n",
              "      };\n",
              "      reader.readAsArrayBuffer(file);\n",
              "    });\n",
              "    // Wait for the data to be ready.\n",
              "    let fileData = yield {\n",
              "      promise: fileDataPromise,\n",
              "      response: {\n",
              "        action: 'continue',\n",
              "      }\n",
              "    };\n",
              "\n",
              "    // Use a chunked sending to avoid message size limits. See b/62115660.\n",
              "    let position = 0;\n",
              "    do {\n",
              "      const length = Math.min(fileData.byteLength - position, MAX_PAYLOAD_SIZE);\n",
              "      const chunk = new Uint8Array(fileData, position, length);\n",
              "      position += length;\n",
              "\n",
              "      const base64 = btoa(String.fromCharCode.apply(null, chunk));\n",
              "      yield {\n",
              "        response: {\n",
              "          action: 'append',\n",
              "          file: file.name,\n",
              "          data: base64,\n",
              "        },\n",
              "      };\n",
              "\n",
              "      let percentDone = fileData.byteLength === 0 ?\n",
              "          100 :\n",
              "          Math.round((position / fileData.byteLength) * 100);\n",
              "      percent.textContent = `${percentDone}% done`;\n",
              "\n",
              "    } while (position < fileData.byteLength);\n",
              "  }\n",
              "\n",
              "  // All done.\n",
              "  yield {\n",
              "    response: {\n",
              "      action: 'complete',\n",
              "    }\n",
              "  };\n",
              "}\n",
              "\n",
              "scope.google = scope.google || {};\n",
              "scope.google.colab = scope.google.colab || {};\n",
              "scope.google.colab._files = {\n",
              "  _uploadFiles,\n",
              "  _uploadFilesContinue,\n",
              "};\n",
              "})(self);\n",
              "</script> "
            ]
          },
          "metadata": {}
        },
        {
          "output_type": "stream",
          "name": "stdout",
          "text": [
            "Saving Statistics Data for Sessions.xlsx to Statistics Data for Sessions.xlsx\n"
          ]
        }
      ],
      "source": [
        "from google.colab import files\n",
        "scores=files.upload()"
      ],
      "id": "YM3o5DBkV5zp"
    },
    {
      "cell_type": "code",
      "execution_count": null,
      "metadata": {
        "id": "55b70426",
        "colab": {
          "base_uri": "https://localhost:8080/",
          "height": 423
        },
        "outputId": "cb1d279b-3853-4b29-8f1e-c8ac4b530aa5"
      },
      "outputs": [
        {
          "output_type": "execute_result",
          "data": {
            "text/plain": [
              "     Runs\n",
              "0       0\n",
              "1       0\n",
              "2       0\n",
              "3       0\n",
              "4       0\n",
              "..    ...\n",
              "145   128\n",
              "146   133\n",
              "147   136\n",
              "148   139\n",
              "149   183\n",
              "\n",
              "[150 rows x 1 columns]"
            ],
            "text/html": [
              "\n",
              "  <div id=\"df-109b9003-6270-4fee-ac99-2805ed9f950b\" class=\"colab-df-container\">\n",
              "    <div>\n",
              "<style scoped>\n",
              "    .dataframe tbody tr th:only-of-type {\n",
              "        vertical-align: middle;\n",
              "    }\n",
              "\n",
              "    .dataframe tbody tr th {\n",
              "        vertical-align: top;\n",
              "    }\n",
              "\n",
              "    .dataframe thead th {\n",
              "        text-align: right;\n",
              "    }\n",
              "</style>\n",
              "<table border=\"1\" class=\"dataframe\">\n",
              "  <thead>\n",
              "    <tr style=\"text-align: right;\">\n",
              "      <th></th>\n",
              "      <th>Runs</th>\n",
              "    </tr>\n",
              "  </thead>\n",
              "  <tbody>\n",
              "    <tr>\n",
              "      <th>0</th>\n",
              "      <td>0</td>\n",
              "    </tr>\n",
              "    <tr>\n",
              "      <th>1</th>\n",
              "      <td>0</td>\n",
              "    </tr>\n",
              "    <tr>\n",
              "      <th>2</th>\n",
              "      <td>0</td>\n",
              "    </tr>\n",
              "    <tr>\n",
              "      <th>3</th>\n",
              "      <td>0</td>\n",
              "    </tr>\n",
              "    <tr>\n",
              "      <th>4</th>\n",
              "      <td>0</td>\n",
              "    </tr>\n",
              "    <tr>\n",
              "      <th>...</th>\n",
              "      <td>...</td>\n",
              "    </tr>\n",
              "    <tr>\n",
              "      <th>145</th>\n",
              "      <td>128</td>\n",
              "    </tr>\n",
              "    <tr>\n",
              "      <th>146</th>\n",
              "      <td>133</td>\n",
              "    </tr>\n",
              "    <tr>\n",
              "      <th>147</th>\n",
              "      <td>136</td>\n",
              "    </tr>\n",
              "    <tr>\n",
              "      <th>148</th>\n",
              "      <td>139</td>\n",
              "    </tr>\n",
              "    <tr>\n",
              "      <th>149</th>\n",
              "      <td>183</td>\n",
              "    </tr>\n",
              "  </tbody>\n",
              "</table>\n",
              "<p>150 rows × 1 columns</p>\n",
              "</div>\n",
              "    <div class=\"colab-df-buttons\">\n",
              "\n",
              "  <div class=\"colab-df-container\">\n",
              "    <button class=\"colab-df-convert\" onclick=\"convertToInteractive('df-109b9003-6270-4fee-ac99-2805ed9f950b')\"\n",
              "            title=\"Convert this dataframe to an interactive table.\"\n",
              "            style=\"display:none;\">\n",
              "\n",
              "  <svg xmlns=\"http://www.w3.org/2000/svg\" height=\"24px\" viewBox=\"0 -960 960 960\">\n",
              "    <path d=\"M120-120v-720h720v720H120Zm60-500h600v-160H180v160Zm220 220h160v-160H400v160Zm0 220h160v-160H400v160ZM180-400h160v-160H180v160Zm440 0h160v-160H620v160ZM180-180h160v-160H180v160Zm440 0h160v-160H620v160Z\"/>\n",
              "  </svg>\n",
              "    </button>\n",
              "\n",
              "  <style>\n",
              "    .colab-df-container {\n",
              "      display:flex;\n",
              "      gap: 12px;\n",
              "    }\n",
              "\n",
              "    .colab-df-convert {\n",
              "      background-color: #E8F0FE;\n",
              "      border: none;\n",
              "      border-radius: 50%;\n",
              "      cursor: pointer;\n",
              "      display: none;\n",
              "      fill: #1967D2;\n",
              "      height: 32px;\n",
              "      padding: 0 0 0 0;\n",
              "      width: 32px;\n",
              "    }\n",
              "\n",
              "    .colab-df-convert:hover {\n",
              "      background-color: #E2EBFA;\n",
              "      box-shadow: 0px 1px 2px rgba(60, 64, 67, 0.3), 0px 1px 3px 1px rgba(60, 64, 67, 0.15);\n",
              "      fill: #174EA6;\n",
              "    }\n",
              "\n",
              "    .colab-df-buttons div {\n",
              "      margin-bottom: 4px;\n",
              "    }\n",
              "\n",
              "    [theme=dark] .colab-df-convert {\n",
              "      background-color: #3B4455;\n",
              "      fill: #D2E3FC;\n",
              "    }\n",
              "\n",
              "    [theme=dark] .colab-df-convert:hover {\n",
              "      background-color: #434B5C;\n",
              "      box-shadow: 0px 1px 3px 1px rgba(0, 0, 0, 0.15);\n",
              "      filter: drop-shadow(0px 1px 2px rgba(0, 0, 0, 0.3));\n",
              "      fill: #FFFFFF;\n",
              "    }\n",
              "  </style>\n",
              "\n",
              "    <script>\n",
              "      const buttonEl =\n",
              "        document.querySelector('#df-109b9003-6270-4fee-ac99-2805ed9f950b button.colab-df-convert');\n",
              "      buttonEl.style.display =\n",
              "        google.colab.kernel.accessAllowed ? 'block' : 'none';\n",
              "\n",
              "      async function convertToInteractive(key) {\n",
              "        const element = document.querySelector('#df-109b9003-6270-4fee-ac99-2805ed9f950b');\n",
              "        const dataTable =\n",
              "          await google.colab.kernel.invokeFunction('convertToInteractive',\n",
              "                                                    [key], {});\n",
              "        if (!dataTable) return;\n",
              "\n",
              "        const docLinkHtml = 'Like what you see? Visit the ' +\n",
              "          '<a target=\"_blank\" href=https://colab.research.google.com/notebooks/data_table.ipynb>data table notebook</a>'\n",
              "          + ' to learn more about interactive tables.';\n",
              "        element.innerHTML = '';\n",
              "        dataTable['output_type'] = 'display_data';\n",
              "        await google.colab.output.renderOutput(dataTable, element);\n",
              "        const docLink = document.createElement('div');\n",
              "        docLink.innerHTML = docLinkHtml;\n",
              "        element.appendChild(docLink);\n",
              "      }\n",
              "    </script>\n",
              "  </div>\n",
              "\n",
              "\n",
              "<div id=\"df-64c015ab-6d2d-4f5c-a3a6-82e3b37633e9\">\n",
              "  <button class=\"colab-df-quickchart\" onclick=\"quickchart('df-64c015ab-6d2d-4f5c-a3a6-82e3b37633e9')\"\n",
              "            title=\"Suggest charts\"\n",
              "            style=\"display:none;\">\n",
              "\n",
              "<svg xmlns=\"http://www.w3.org/2000/svg\" height=\"24px\"viewBox=\"0 0 24 24\"\n",
              "     width=\"24px\">\n",
              "    <g>\n",
              "        <path d=\"M19 3H5c-1.1 0-2 .9-2 2v14c0 1.1.9 2 2 2h14c1.1 0 2-.9 2-2V5c0-1.1-.9-2-2-2zM9 17H7v-7h2v7zm4 0h-2V7h2v10zm4 0h-2v-4h2v4z\"/>\n",
              "    </g>\n",
              "</svg>\n",
              "  </button>\n",
              "\n",
              "<style>\n",
              "  .colab-df-quickchart {\n",
              "      --bg-color: #E8F0FE;\n",
              "      --fill-color: #1967D2;\n",
              "      --hover-bg-color: #E2EBFA;\n",
              "      --hover-fill-color: #174EA6;\n",
              "      --disabled-fill-color: #AAA;\n",
              "      --disabled-bg-color: #DDD;\n",
              "  }\n",
              "\n",
              "  [theme=dark] .colab-df-quickchart {\n",
              "      --bg-color: #3B4455;\n",
              "      --fill-color: #D2E3FC;\n",
              "      --hover-bg-color: #434B5C;\n",
              "      --hover-fill-color: #FFFFFF;\n",
              "      --disabled-bg-color: #3B4455;\n",
              "      --disabled-fill-color: #666;\n",
              "  }\n",
              "\n",
              "  .colab-df-quickchart {\n",
              "    background-color: var(--bg-color);\n",
              "    border: none;\n",
              "    border-radius: 50%;\n",
              "    cursor: pointer;\n",
              "    display: none;\n",
              "    fill: var(--fill-color);\n",
              "    height: 32px;\n",
              "    padding: 0;\n",
              "    width: 32px;\n",
              "  }\n",
              "\n",
              "  .colab-df-quickchart:hover {\n",
              "    background-color: var(--hover-bg-color);\n",
              "    box-shadow: 0 1px 2px rgba(60, 64, 67, 0.3), 0 1px 3px 1px rgba(60, 64, 67, 0.15);\n",
              "    fill: var(--button-hover-fill-color);\n",
              "  }\n",
              "\n",
              "  .colab-df-quickchart-complete:disabled,\n",
              "  .colab-df-quickchart-complete:disabled:hover {\n",
              "    background-color: var(--disabled-bg-color);\n",
              "    fill: var(--disabled-fill-color);\n",
              "    box-shadow: none;\n",
              "  }\n",
              "\n",
              "  .colab-df-spinner {\n",
              "    border: 2px solid var(--fill-color);\n",
              "    border-color: transparent;\n",
              "    border-bottom-color: var(--fill-color);\n",
              "    animation:\n",
              "      spin 1s steps(1) infinite;\n",
              "  }\n",
              "\n",
              "  @keyframes spin {\n",
              "    0% {\n",
              "      border-color: transparent;\n",
              "      border-bottom-color: var(--fill-color);\n",
              "      border-left-color: var(--fill-color);\n",
              "    }\n",
              "    20% {\n",
              "      border-color: transparent;\n",
              "      border-left-color: var(--fill-color);\n",
              "      border-top-color: var(--fill-color);\n",
              "    }\n",
              "    30% {\n",
              "      border-color: transparent;\n",
              "      border-left-color: var(--fill-color);\n",
              "      border-top-color: var(--fill-color);\n",
              "      border-right-color: var(--fill-color);\n",
              "    }\n",
              "    40% {\n",
              "      border-color: transparent;\n",
              "      border-right-color: var(--fill-color);\n",
              "      border-top-color: var(--fill-color);\n",
              "    }\n",
              "    60% {\n",
              "      border-color: transparent;\n",
              "      border-right-color: var(--fill-color);\n",
              "    }\n",
              "    80% {\n",
              "      border-color: transparent;\n",
              "      border-right-color: var(--fill-color);\n",
              "      border-bottom-color: var(--fill-color);\n",
              "    }\n",
              "    90% {\n",
              "      border-color: transparent;\n",
              "      border-bottom-color: var(--fill-color);\n",
              "    }\n",
              "  }\n",
              "</style>\n",
              "\n",
              "  <script>\n",
              "    async function quickchart(key) {\n",
              "      const quickchartButtonEl =\n",
              "        document.querySelector('#' + key + ' button');\n",
              "      quickchartButtonEl.disabled = true;  // To prevent multiple clicks.\n",
              "      quickchartButtonEl.classList.add('colab-df-spinner');\n",
              "      try {\n",
              "        const charts = await google.colab.kernel.invokeFunction(\n",
              "            'suggestCharts', [key], {});\n",
              "      } catch (error) {\n",
              "        console.error('Error during call to suggestCharts:', error);\n",
              "      }\n",
              "      quickchartButtonEl.classList.remove('colab-df-spinner');\n",
              "      quickchartButtonEl.classList.add('colab-df-quickchart-complete');\n",
              "    }\n",
              "    (() => {\n",
              "      let quickchartButtonEl =\n",
              "        document.querySelector('#df-64c015ab-6d2d-4f5c-a3a6-82e3b37633e9 button');\n",
              "      quickchartButtonEl.style.display =\n",
              "        google.colab.kernel.accessAllowed ? 'block' : 'none';\n",
              "    })();\n",
              "  </script>\n",
              "</div>\n",
              "\n",
              "  <div id=\"id_13018704-0312-40b6-8a66-32d895466964\">\n",
              "    <style>\n",
              "      .colab-df-generate {\n",
              "        background-color: #E8F0FE;\n",
              "        border: none;\n",
              "        border-radius: 50%;\n",
              "        cursor: pointer;\n",
              "        display: none;\n",
              "        fill: #1967D2;\n",
              "        height: 32px;\n",
              "        padding: 0 0 0 0;\n",
              "        width: 32px;\n",
              "      }\n",
              "\n",
              "      .colab-df-generate:hover {\n",
              "        background-color: #E2EBFA;\n",
              "        box-shadow: 0px 1px 2px rgba(60, 64, 67, 0.3), 0px 1px 3px 1px rgba(60, 64, 67, 0.15);\n",
              "        fill: #174EA6;\n",
              "      }\n",
              "\n",
              "      [theme=dark] .colab-df-generate {\n",
              "        background-color: #3B4455;\n",
              "        fill: #D2E3FC;\n",
              "      }\n",
              "\n",
              "      [theme=dark] .colab-df-generate:hover {\n",
              "        background-color: #434B5C;\n",
              "        box-shadow: 0px 1px 3px 1px rgba(0, 0, 0, 0.15);\n",
              "        filter: drop-shadow(0px 1px 2px rgba(0, 0, 0, 0.3));\n",
              "        fill: #FFFFFF;\n",
              "      }\n",
              "    </style>\n",
              "    <button class=\"colab-df-generate\" onclick=\"generateWithVariable('runs')\"\n",
              "            title=\"Generate code using this dataframe.\"\n",
              "            style=\"display:none;\">\n",
              "\n",
              "  <svg xmlns=\"http://www.w3.org/2000/svg\" height=\"24px\"viewBox=\"0 0 24 24\"\n",
              "       width=\"24px\">\n",
              "    <path d=\"M7,19H8.4L18.45,9,17,7.55,7,17.6ZM5,21V16.75L18.45,3.32a2,2,0,0,1,2.83,0l1.4,1.43a1.91,1.91,0,0,1,.58,1.4,1.91,1.91,0,0,1-.58,1.4L9.25,21ZM18.45,9,17,7.55Zm-12,3A5.31,5.31,0,0,0,4.9,8.1,5.31,5.31,0,0,0,1,6.5,5.31,5.31,0,0,0,4.9,4.9,5.31,5.31,0,0,0,6.5,1,5.31,5.31,0,0,0,8.1,4.9,5.31,5.31,0,0,0,12,6.5,5.46,5.46,0,0,0,6.5,12Z\"/>\n",
              "  </svg>\n",
              "    </button>\n",
              "    <script>\n",
              "      (() => {\n",
              "      const buttonEl =\n",
              "        document.querySelector('#id_13018704-0312-40b6-8a66-32d895466964 button.colab-df-generate');\n",
              "      buttonEl.style.display =\n",
              "        google.colab.kernel.accessAllowed ? 'block' : 'none';\n",
              "\n",
              "      buttonEl.onclick = () => {\n",
              "        google.colab.notebook.generateWithVariable('runs');\n",
              "      }\n",
              "      })();\n",
              "    </script>\n",
              "  </div>\n",
              "\n",
              "    </div>\n",
              "  </div>\n"
            ],
            "application/vnd.google.colaboratory.intrinsic+json": {
              "type": "dataframe",
              "variable_name": "runs",
              "summary": "{\n  \"name\": \"runs\",\n  \"rows\": 150,\n  \"fields\": [\n    {\n      \"column\": \"Runs\",\n      \"properties\": {\n        \"dtype\": \"number\",\n        \"std\": 40,\n        \"min\": 0,\n        \"max\": 183,\n        \"num_unique_values\": 82,\n        \"samples\": [\n          33,\n          0,\n          23\n        ],\n        \"semantic_type\": \"\",\n        \"description\": \"\"\n      }\n    }\n  ]\n}"
            }
          },
          "metadata": {},
          "execution_count": 3
        }
      ],
      "source": [
        "import pandas as pd\n",
        "runs=pd.read_excel(\"Statistics Data for Sessions.xlsx\", sheet_name=\"Virat Kohli Data for Python\")\n",
        "runs"
      ],
      "id": "55b70426"
    },
    {
      "cell_type": "code",
      "source": [
        "print(runs['Runs'].min())\n",
        "print(runs['Runs'].max())"
      ],
      "metadata": {
        "colab": {
          "base_uri": "https://localhost:8080/"
        },
        "id": "4jLbHYGEJYVK",
        "outputId": "3b1d2e94-0bbb-4e9a-8d15-554148cebe8a"
      },
      "id": "4jLbHYGEJYVK",
      "execution_count": null,
      "outputs": [
        {
          "output_type": "stream",
          "name": "stdout",
          "text": [
            "0\n",
            "183\n"
          ]
        }
      ]
    },
    {
      "cell_type": "code",
      "source": [
        "import numpy as np\n",
        "runs['Runs'].hist(bins=[0,20,40,60,80,100,120,140,160,180,200],edgecolor='k')\n",
        "runs['Runs'].hist(bins=np.arange(0,201,20),edgecolor='k')"
      ],
      "metadata": {
        "id": "wIZ1WA3u0Ngz",
        "colab": {
          "base_uri": "https://localhost:8080/",
          "height": 448
        },
        "outputId": "26219772-8e04-463b-e603-a09928474c41"
      },
      "id": "wIZ1WA3u0Ngz",
      "execution_count": null,
      "outputs": [
        {
          "output_type": "execute_result",
          "data": {
            "text/plain": [
              "<Axes: >"
            ]
          },
          "metadata": {},
          "execution_count": 5
        },
        {
          "output_type": "display_data",
          "data": {
            "text/plain": [
              "<Figure size 640x480 with 1 Axes>"
            ],
            "image/png": "[encoded data removed]"
          },
          "metadata": {}
        }
      ]
    },
    {
      "cell_type": "code",
      "source": [
        "Runs_Mean=runs['Runs'].mean()\n",
        "Runs_Std=runs['Runs'].std()\n",
        "print(Runs_Mean)\n",
        "print(Runs_Std)"
      ],
      "metadata": {
        "id": "HSVRmAaf-hWX",
        "colab": {
          "base_uri": "https://localhost:8080/"
        },
        "outputId": "e631593d-217d-49ce-83e6-d9b5cd3f8bde"
      },
      "id": "HSVRmAaf-hWX",
      "execution_count": null,
      "outputs": [
        {
          "output_type": "stream",
          "name": "stdout",
          "text": [
            "43.413333333333334\n",
            "40.68477390548572\n"
          ]
        }
      ]
    },
    {
      "cell_type": "code",
      "source": [
        "Runs_Mean=runs['Runs'].mean()\n",
        "Runs_Median=runs['Runs'].median()\n",
        "Runs_Mode=runs['Runs'].mode()\n",
        "print(Runs_Mean)\n",
        "print(Runs_Median)\n",
        "print(Runs_Mode)"
      ],
      "metadata": {
        "colab": {
          "base_uri": "https://localhost:8080/"
        },
        "id": "bzwB5QW1IvDX",
        "outputId": "01268ef9-b3e3-47dd-d0bf-297b7c085a0a"
      },
      "id": "bzwB5QW1IvDX",
      "execution_count": null,
      "outputs": [
        {
          "output_type": "stream",
          "name": "stdout",
          "text": [
            "43.413333333333334\n",
            "31.0\n",
            "0    0\n",
            "Name: Runs, dtype: int64\n"
          ]
        }
      ]
    },
    {
      "cell_type": "code",
      "source": [
        "runs['Runs'].skew()"
      ],
      "metadata": {
        "id": "XcLvwpCWQc8a",
        "colab": {
          "base_uri": "https://localhost:8080/"
        },
        "outputId": "ee6c0ccc-0e6b-4244-9f80-bdb59525ce83"
      },
      "id": "XcLvwpCWQc8a",
      "execution_count": null,
      "outputs": [
        {
          "output_type": "execute_result",
          "data": {
            "text/plain": [
              "0.900176290039527"
            ]
          },
          "metadata": {},
          "execution_count": 8
        }
      ]
    },
    {
      "cell_type": "markdown",
      "source": [
        "### Skewness\n",
        "-1 ----------- -0.5 ----------- 0 ----------- 0.5 ----------- 1\n",
        "\n",
        "- Negatively Skewed Data / Left Skewed Data\n",
        "\n",
        "Mode > Median > Mean\n",
        "\n",
        "If skewness value is very close to negative 1, then there are higher chances of having outliers on the lower side of data.\n",
        "\n",
        "- Positively Skewed Data / Right Skewed Data\n",
        "\n",
        "Mode < Median < Mean\n",
        "\n",
        "If skewness value is very close to positive 1, then there are higher chances of having outliers on the higher side of data.\n",
        "\n",
        "The closer the value of skewness to 0, the data will be normal.\n",
        "\n",
        "\n",
        "\n",
        "\n"
      ],
      "metadata": {
        "id": "0QjuafexJXty"
      },
      "id": "0QjuafexJXty"
    },
    {
      "cell_type": "code",
      "source": [
        "def Avg(x):\n",
        "  return sum(x)/len(x)\n",
        "def Std_Dev(x):\n",
        "  return (sum((i-Avg(x))**2 for i in x)/(len(x)-1))**0.5\n",
        "def Empirical_Rule(x):\n",
        "  for i in range(1,4):\n",
        "    LL=Avg(x) - (i*Std_Dev(x))\n",
        "    UL=Avg(x) + (i*Std_Dev(x))\n",
        "    Countx= len([j for j in x if UL>=j>=LL])\n",
        "    print(f\"For Empirical Rule {i}\")\n",
        "    print(\"Lower Limit: \", LL)\n",
        "    print(\"Upper Limit: \", UL)\n",
        "    print(\"Count of the data: \", Countx)\n",
        "    print(f\"% of data within the range: {(Countx/len(x))*100:.2f}\")\n",
        "    print(\"Outliers are:\", [j for j in x if j<(Avg(x) - 3*Std_Dev(x)) or j>(Avg(x) + 3*Std_Dev(x))])\n",
        "    print(\"\\n\")\n",
        "Empirical_Rule(runs['Runs'])"
      ],
      "metadata": {
        "colab": {
          "base_uri": "https://localhost:8080/"
        },
        "id": "5r509b0pPtQ9",
        "outputId": "79b3347c-8ade-417d-becb-b4ae2c45715a"
      },
      "id": "5r509b0pPtQ9",
      "execution_count": null,
      "outputs": [
        {
          "output_type": "stream",
          "name": "stdout",
          "text": [
            "For Empirical Rule 1\n",
            "Lower Limit:  2.7285594278475997\n",
            "Upper Limit:  84.09810723881907\n",
            "Count of the data:  98\n",
            "% of data within the range: 65.33\n",
            "Outliers are: [183]\n",
            "\n",
            "\n",
            "For Empirical Rule 2\n",
            "Lower Limit:  -37.956214477638134\n",
            "Upper Limit:  124.78288114430481\n",
            "Count of the data:  144\n",
            "% of data within the range: 96.00\n",
            "Outliers are: [183]\n",
            "\n",
            "\n",
            "For Empirical Rule 3\n",
            "Lower Limit:  -78.64098838312387\n",
            "Upper Limit:  165.46765504979052\n",
            "Count of the data:  149\n",
            "% of data within the range: 99.33\n",
            "Outliers are: [183]\n",
            "\n",
            "\n"
          ]
        }
      ]
    },
    {
      "cell_type": "code",
      "source": [
        "def Empirical_Rule(x):\n",
        "  for i in range(1,4):\n",
        "    LL=x.mean() - (i*(x.std()))\n",
        "    UL=x.mean() + (i*(x.std()))\n",
        "    Countx= len([j for j in x if UL>=j>=LL])\n",
        "    print(f\"For Empirical Rule {i}\")\n",
        "    print(\"Lower Limit: \", LL)\n",
        "    print(\"Upper Limit: \", UL)\n",
        "    print(\"Count of the data: \", Countx)\n",
        "    print(f\"% of data within the range: {(Countx/len(x))*100:.2f}\")\n",
        "    print(\"\\n\")\n",
        "  print(\"Outliers are:\", [j for j in x if j<(x.mean() - 3*(x.std())) or j>(x.mean()) + 3*(x.std())])\n",
        "\n",
        "Empirical_Rule(runs['Runs'])"
      ],
      "metadata": {
        "colab": {
          "base_uri": "https://localhost:8080/"
        },
        "id": "1I-oq-ecFWH3",
        "outputId": "804ce4bb-0db0-429c-c1ad-f8346f317bb6"
      },
      "id": "1I-oq-ecFWH3",
      "execution_count": null,
      "outputs": [
        {
          "output_type": "stream",
          "name": "stdout",
          "text": [
            "For Empirical Rule 1\n",
            "Lower Limit:  2.728559427847614\n",
            "Upper Limit:  84.09810723881905\n",
            "Count of the data:  98\n",
            "% of data within the range: 65.33\n",
            "\n",
            "\n",
            "For Empirical Rule 2\n",
            "Lower Limit:  -37.956214477638106\n",
            "Upper Limit:  124.78288114430478\n",
            "Count of the data:  144\n",
            "% of data within the range: 96.00\n",
            "\n",
            "\n",
            "For Empirical Rule 3\n",
            "Lower Limit:  -78.64098838312384\n",
            "Upper Limit:  165.4676550497905\n",
            "Count of the data:  149\n",
            "% of data within the range: 99.33\n",
            "\n",
            "\n",
            "Outliers are: [183]\n"
          ]
        }
      ]
    },
    {
      "cell_type": "code",
      "source": [
        "def Empirical_Rule(x):\n",
        "  for i in range(1,4):\n",
        "    LL=x.mean() - (i*(x.std()))\n",
        "    UL=x.mean() + (i*(x.std()))\n",
        "    Countx= len([j for j in x if UL>=j>=LL])\n",
        "    print(f\"For Empirical Rule {i}\")\n",
        "    print(\"Lower Limit: \", LL)\n",
        "    print(\"Upper Limit: \", UL)\n",
        "    print(\"Count of the data: \", Countx)\n",
        "    print(f\"% of data within the range: {(Countx/len(x))*100:.2f}\")\n",
        "    print(\"Outliers are:\", [j for j in x if j<(x.mean() - 3*x.std()) or j>(x.mean() + 3*x.std())])\n",
        "    print(\"\\n\")\n",
        "Empirical_Rule(runs['Runs'])"
      ],
      "metadata": {
        "colab": {
          "base_uri": "https://localhost:8080/"
        },
        "id": "JzDwzbtkXA_i",
        "outputId": "99e196d1-7523-42f2-f64d-18ffeaf7f67e"
      },
      "id": "JzDwzbtkXA_i",
      "execution_count": null,
      "outputs": [
        {
          "output_type": "stream",
          "name": "stdout",
          "text": [
            "For Empirical Rule 1\n",
            "Lower Limit:  2.728559427847614\n",
            "Upper Limit:  84.09810723881905\n",
            "Count of the data:  98\n",
            "% of data within the range: 65.33\n",
            "Outliers are: [183]\n",
            "\n",
            "\n",
            "For Empirical Rule 2\n",
            "Lower Limit:  -37.956214477638106\n",
            "Upper Limit:  124.78288114430478\n",
            "Count of the data:  144\n",
            "% of data within the range: 96.00\n",
            "Outliers are: [183]\n",
            "\n",
            "\n",
            "For Empirical Rule 3\n",
            "Lower Limit:  -78.64098838312384\n",
            "Upper Limit:  165.4676550497905\n",
            "Count of the data:  149\n",
            "% of data within the range: 99.33\n",
            "Outliers are: [183]\n",
            "\n",
            "\n"
          ]
        }
      ]
    },
    {
      "cell_type": "code",
      "execution_count": null,
      "metadata": {
        "id": "c1f8ddb6"
      },
      "outputs": [],
      "source": [
        "np.std(runs['Runs'])"
      ],
      "id": "c1f8ddb6"
    },
    {
      "cell_type": "code",
      "execution_count": null,
      "metadata": {
        "id": "8ed2aa5c"
      },
      "outputs": [],
      "source": [
        "np.std(runs['Runs'],ddof=1)"
      ],
      "id": "8ed2aa5c"
    },
    {
      "cell_type": "code",
      "source": [
        "Runs_Mean=runs['Runs'].mean()\n",
        "Runs_Std=runs['Runs'].std()\n",
        "print(Runs_Mean)\n",
        "print(Runs_Std)"
      ],
      "metadata": {
        "id": "sa9b46rjvUaP",
        "colab": {
          "base_uri": "https://localhost:8080/"
        },
        "outputId": "b606957c-1b66-4910-c35c-0801715bd9ed"
      },
      "id": "sa9b46rjvUaP",
      "execution_count": null,
      "outputs": [
        {
          "output_type": "stream",
          "name": "stdout",
          "text": [
            "43.413333333333334\n",
            "40.68477390548572\n"
          ]
        }
      ]
    },
    {
      "cell_type": "code",
      "execution_count": null,
      "metadata": {
        "id": "c059e77f",
        "colab": {
          "base_uri": "https://localhost:8080/"
        },
        "outputId": "c4a0e5ba-46f9-47e6-87b6-b672bfe85c8d"
      },
      "outputs": [
        {
          "output_type": "stream",
          "name": "stdout",
          "text": [
            "2.73\n",
            "84.1\n"
          ]
        }
      ],
      "source": [
        "#For 1 Std Dev away from the mean\n",
        "LL_1SD = round(Runs_Mean - (1*Runs_Std),2)\n",
        "UL_1SD = round(Runs_Mean + (1*Runs_Std),2)\n",
        "print(LL_1SD)\n",
        "print(UL_1SD)"
      ],
      "id": "c059e77f"
    },
    {
      "cell_type": "code",
      "source": [
        "runs[(runs['Runs']>=LL_1SD) & (runs['Runs']<=UL_1SD)]"
      ],
      "metadata": {
        "id": "_8uykfBaJytx",
        "colab": {
          "base_uri": "https://localhost:8080/",
          "height": 423
        },
        "outputId": "51cb0e2b-0286-4c36-b820-6547699f0de8"
      },
      "id": "_8uykfBaJytx",
      "execution_count": null,
      "outputs": [
        {
          "output_type": "execute_result",
          "data": {
            "text/plain": [
              "     Runs\n",
              "24      3\n",
              "25      3\n",
              "26      3\n",
              "27      4\n",
              "28      5\n",
              "..    ...\n",
              "117    79\n",
              "118    80\n",
              "119    81\n",
              "120    82\n",
              "121    82\n",
              "\n",
              "[98 rows x 1 columns]"
            ],
            "text/html": [
              "\n",
              "  <div id=\"df-f91c31b2-ce63-42dc-adb9-ba7e681a69a1\" class=\"colab-df-container\">\n",
              "    <div>\n",
              "<style scoped>\n",
              "    .dataframe tbody tr th:only-of-type {\n",
              "        vertical-align: middle;\n",
              "    }\n",
              "\n",
              "    .dataframe tbody tr th {\n",
              "        vertical-align: top;\n",
              "    }\n",
              "\n",
              "    .dataframe thead th {\n",
              "        text-align: right;\n",
              "    }\n",
              "</style>\n",
              "<table border=\"1\" class=\"dataframe\">\n",
              "  <thead>\n",
              "    <tr style=\"text-align: right;\">\n",
              "      <th></th>\n",
              "      <th>Runs</th>\n",
              "    </tr>\n",
              "  </thead>\n",
              "  <tbody>\n",
              "    <tr>\n",
              "      <th>24</th>\n",
              "      <td>3</td>\n",
              "    </tr>\n",
              "    <tr>\n",
              "      <th>25</th>\n",
              "      <td>3</td>\n",
              "    </tr>\n",
              "    <tr>\n",
              "      <th>26</th>\n",
              "      <td>3</td>\n",
              "    </tr>\n",
              "    <tr>\n",
              "      <th>27</th>\n",
              "      <td>4</td>\n",
              "    </tr>\n",
              "    <tr>\n",
              "      <th>28</th>\n",
              "      <td>5</td>\n",
              "    </tr>\n",
              "    <tr>\n",
              "      <th>...</th>\n",
              "      <td>...</td>\n",
              "    </tr>\n",
              "    <tr>\n",
              "      <th>117</th>\n",
              "      <td>79</td>\n",
              "    </tr>\n",
              "    <tr>\n",
              "      <th>118</th>\n",
              "      <td>80</td>\n",
              "    </tr>\n",
              "    <tr>\n",
              "      <th>119</th>\n",
              "      <td>81</td>\n",
              "    </tr>\n",
              "    <tr>\n",
              "      <th>120</th>\n",
              "      <td>82</td>\n",
              "    </tr>\n",
              "    <tr>\n",
              "      <th>121</th>\n",
              "      <td>82</td>\n",
              "    </tr>\n",
              "  </tbody>\n",
              "</table>\n",
              "<p>98 rows × 1 columns</p>\n",
              "</div>\n",
              "    <div class=\"colab-df-buttons\">\n",
              "\n",
              "  <div class=\"colab-df-container\">\n",
              "    <button class=\"colab-df-convert\" onclick=\"convertToInteractive('df-f91c31b2-ce63-42dc-adb9-ba7e681a69a1')\"\n",
              "            title=\"Convert this dataframe to an interactive table.\"\n",
              "            style=\"display:none;\">\n",
              "\n",
              "  <svg xmlns=\"http://www.w3.org/2000/svg\" height=\"24px\" viewBox=\"0 -960 960 960\">\n",
              "    <path d=\"M120-120v-720h720v720H120Zm60-500h600v-160H180v160Zm220 220h160v-160H400v160Zm0 220h160v-160H400v160ZM180-400h160v-160H180v160Zm440 0h160v-160H620v160ZM180-180h160v-160H180v160Zm440 0h160v-160H620v160Z\"/>\n",
              "  </svg>\n",
              "    </button>\n",
              "\n",
              "  <style>\n",
              "    .colab-df-container {\n",
              "      display:flex;\n",
              "      gap: 12px;\n",
              "    }\n",
              "\n",
              "    .colab-df-convert {\n",
              "      background-color: #E8F0FE;\n",
              "      border: none;\n",
              "      border-radius: 50%;\n",
              "      cursor: pointer;\n",
              "      display: none;\n",
              "      fill: #1967D2;\n",
              "      height: 32px;\n",
              "      padding: 0 0 0 0;\n",
              "      width: 32px;\n",
              "    }\n",
              "\n",
              "    .colab-df-convert:hover {\n",
              "      background-color: #E2EBFA;\n",
              "      box-shadow: 0px 1px 2px rgba(60, 64, 67, 0.3), 0px 1px 3px 1px rgba(60, 64, 67, 0.15);\n",
              "      fill: #174EA6;\n",
              "    }\n",
              "\n",
              "    .colab-df-buttons div {\n",
              "      margin-bottom: 4px;\n",
              "    }\n",
              "\n",
              "    [theme=dark] .colab-df-convert {\n",
              "      background-color: #3B4455;\n",
              "      fill: #D2E3FC;\n",
              "    }\n",
              "\n",
              "    [theme=dark] .colab-df-convert:hover {\n",
              "      background-color: #434B5C;\n",
              "      box-shadow: 0px 1px 3px 1px rgba(0, 0, 0, 0.15);\n",
              "      filter: drop-shadow(0px 1px 2px rgba(0, 0, 0, 0.3));\n",
              "      fill: #FFFFFF;\n",
              "    }\n",
              "  </style>\n",
              "\n",
              "    <script>\n",
              "      const buttonEl =\n",
              "        document.querySelector('#df-f91c31b2-ce63-42dc-adb9-ba7e681a69a1 button.colab-df-convert');\n",
              "      buttonEl.style.display =\n",
              "        google.colab.kernel.accessAllowed ? 'block' : 'none';\n",
              "\n",
              "      async function convertToInteractive(key) {\n",
              "        const element = document.querySelector('#df-f91c31b2-ce63-42dc-adb9-ba7e681a69a1');\n",
              "        const dataTable =\n",
              "          await google.colab.kernel.invokeFunction('convertToInteractive',\n",
              "                                                    [key], {});\n",
              "        if (!dataTable) return;\n",
              "\n",
              "        const docLinkHtml = 'Like what you see? Visit the ' +\n",
              "          '<a target=\"_blank\" href=https://colab.research.google.com/notebooks/data_table.ipynb>data table notebook</a>'\n",
              "          + ' to learn more about interactive tables.';\n",
              "        element.innerHTML = '';\n",
              "        dataTable['output_type'] = 'display_data';\n",
              "        await google.colab.output.renderOutput(dataTable, element);\n",
              "        const docLink = document.createElement('div');\n",
              "        docLink.innerHTML = docLinkHtml;\n",
              "        element.appendChild(docLink);\n",
              "      }\n",
              "    </script>\n",
              "  </div>\n",
              "\n",
              "\n",
              "<div id=\"df-e4e83a68-afdc-4a3f-b4dc-a4825caba470\">\n",
              "  <button class=\"colab-df-quickchart\" onclick=\"quickchart('df-e4e83a68-afdc-4a3f-b4dc-a4825caba470')\"\n",
              "            title=\"Suggest charts.\"\n",
              "            style=\"display:none;\">\n",
              "\n",
              "<svg xmlns=\"http://www.w3.org/2000/svg\" height=\"24px\"viewBox=\"0 0 24 24\"\n",
              "     width=\"24px\">\n",
              "    <g>\n",
              "        <path d=\"M19 3H5c-1.1 0-2 .9-2 2v14c0 1.1.9 2 2 2h14c1.1 0 2-.9 2-2V5c0-1.1-.9-2-2-2zM9 17H7v-7h2v7zm4 0h-2V7h2v10zm4 0h-2v-4h2v4z\"/>\n",
              "    </g>\n",
              "</svg>\n",
              "  </button>\n",
              "\n",
              "<style>\n",
              "  .colab-df-quickchart {\n",
              "      --bg-color: #E8F0FE;\n",
              "      --fill-color: #1967D2;\n",
              "      --hover-bg-color: #E2EBFA;\n",
              "      --hover-fill-color: #174EA6;\n",
              "      --disabled-fill-color: #AAA;\n",
              "      --disabled-bg-color: #DDD;\n",
              "  }\n",
              "\n",
              "  [theme=dark] .colab-df-quickchart {\n",
              "      --bg-color: #3B4455;\n",
              "      --fill-color: #D2E3FC;\n",
              "      --hover-bg-color: #434B5C;\n",
              "      --hover-fill-color: #FFFFFF;\n",
              "      --disabled-bg-color: #3B4455;\n",
              "      --disabled-fill-color: #666;\n",
              "  }\n",
              "\n",
              "  .colab-df-quickchart {\n",
              "    background-color: var(--bg-color);\n",
              "    border: none;\n",
              "    border-radius: 50%;\n",
              "    cursor: pointer;\n",
              "    display: none;\n",
              "    fill: var(--fill-color);\n",
              "    height: 32px;\n",
              "    padding: 0;\n",
              "    width: 32px;\n",
              "  }\n",
              "\n",
              "  .colab-df-quickchart:hover {\n",
              "    background-color: var(--hover-bg-color);\n",
              "    box-shadow: 0 1px 2px rgba(60, 64, 67, 0.3), 0 1px 3px 1px rgba(60, 64, 67, 0.15);\n",
              "    fill: var(--button-hover-fill-color);\n",
              "  }\n",
              "\n",
              "  .colab-df-quickchart-complete:disabled,\n",
              "  .colab-df-quickchart-complete:disabled:hover {\n",
              "    background-color: var(--disabled-bg-color);\n",
              "    fill: var(--disabled-fill-color);\n",
              "    box-shadow: none;\n",
              "  }\n",
              "\n",
              "  .colab-df-spinner {\n",
              "    border: 2px solid var(--fill-color);\n",
              "    border-color: transparent;\n",
              "    border-bottom-color: var(--fill-color);\n",
              "    animation:\n",
              "      spin 1s steps(1) infinite;\n",
              "  }\n",
              "\n",
              "  @keyframes spin {\n",
              "    0% {\n",
              "      border-color: transparent;\n",
              "      border-bottom-color: var(--fill-color);\n",
              "      border-left-color: var(--fill-color);\n",
              "    }\n",
              "    20% {\n",
              "      border-color: transparent;\n",
              "      border-left-color: var(--fill-color);\n",
              "      border-top-color: var(--fill-color);\n",
              "    }\n",
              "    30% {\n",
              "      border-color: transparent;\n",
              "      border-left-color: var(--fill-color);\n",
              "      border-top-color: var(--fill-color);\n",
              "      border-right-color: var(--fill-color);\n",
              "    }\n",
              "    40% {\n",
              "      border-color: transparent;\n",
              "      border-right-color: var(--fill-color);\n",
              "      border-top-color: var(--fill-color);\n",
              "    }\n",
              "    60% {\n",
              "      border-color: transparent;\n",
              "      border-right-color: var(--fill-color);\n",
              "    }\n",
              "    80% {\n",
              "      border-color: transparent;\n",
              "      border-right-color: var(--fill-color);\n",
              "      border-bottom-color: var(--fill-color);\n",
              "    }\n",
              "    90% {\n",
              "      border-color: transparent;\n",
              "      border-bottom-color: var(--fill-color);\n",
              "    }\n",
              "  }\n",
              "</style>\n",
              "\n",
              "  <script>\n",
              "    async function quickchart(key) {\n",
              "      const quickchartButtonEl =\n",
              "        document.querySelector('#' + key + ' button');\n",
              "      quickchartButtonEl.disabled = true;  // To prevent multiple clicks.\n",
              "      quickchartButtonEl.classList.add('colab-df-spinner');\n",
              "      try {\n",
              "        const charts = await google.colab.kernel.invokeFunction(\n",
              "            'suggestCharts', [key], {});\n",
              "      } catch (error) {\n",
              "        console.error('Error during call to suggestCharts:', error);\n",
              "      }\n",
              "      quickchartButtonEl.classList.remove('colab-df-spinner');\n",
              "      quickchartButtonEl.classList.add('colab-df-quickchart-complete');\n",
              "    }\n",
              "    (() => {\n",
              "      let quickchartButtonEl =\n",
              "        document.querySelector('#df-e4e83a68-afdc-4a3f-b4dc-a4825caba470 button');\n",
              "      quickchartButtonEl.style.display =\n",
              "        google.colab.kernel.accessAllowed ? 'block' : 'none';\n",
              "    })();\n",
              "  </script>\n",
              "</div>\n",
              "    </div>\n",
              "  </div>\n"
            ]
          },
          "metadata": {},
          "execution_count": 7
        }
      ]
    },
    {
      "cell_type": "code",
      "execution_count": null,
      "metadata": {
        "id": "b4b3b649",
        "colab": {
          "base_uri": "https://localhost:8080/"
        },
        "outputId": "7607aea4-91a0-4b9a-994f-c7a7a3b8cb58"
      },
      "outputs": [
        {
          "output_type": "execute_result",
          "data": {
            "text/plain": [
              "98"
            ]
          },
          "metadata": {},
          "execution_count": 9
        }
      ],
      "source": [
        "#Count of the data between the 1 SD range\n",
        "len(runs[(runs['Runs']>=LL_1SD) & (runs['Runs']<=UL_1SD)])"
      ],
      "id": "b4b3b649"
    },
    {
      "cell_type": "code",
      "execution_count": null,
      "metadata": {
        "id": "e6feeb69",
        "colab": {
          "base_uri": "https://localhost:8080/"
        },
        "outputId": "ba98e790-fd45-4a8e-8dd4-0a0049a9e05c"
      },
      "outputs": [
        {
          "output_type": "execute_result",
          "data": {
            "text/plain": [
              "65.33333333333333"
            ]
          },
          "metadata": {},
          "execution_count": 10
        }
      ],
      "source": [
        "#% of data between the 1 SD range\n",
        "(len(runs[(runs['Runs']>=LL_1SD) & (runs['Runs']<=UL_1SD)])/len(runs))*100"
      ],
      "id": "e6feeb69"
    },
    {
      "cell_type": "code",
      "execution_count": null,
      "metadata": {
        "id": "7abf7ca2"
      },
      "outputs": [],
      "source": [
        "#For 2 Std Dev away from the mean\n",
        "LL_2SD = round(Runs_Mean - (2*Runs_Std),2)\n",
        "UL_2SD = round(Runs_Mean + (2*Runs_Std),2)\n",
        "print(LL_2SD)\n",
        "print(UL_2SD)"
      ],
      "id": "7abf7ca2"
    },
    {
      "cell_type": "code",
      "execution_count": null,
      "metadata": {
        "id": "9f616442"
      },
      "outputs": [],
      "source": [
        "#Count of the data between the 1 SD range\n",
        "len(runs[(runs['Runs']>=LL_2SD) & (runs['Runs']<=UL_2SD)])"
      ],
      "id": "9f616442"
    },
    {
      "cell_type": "code",
      "execution_count": null,
      "metadata": {
        "id": "0aaaaad8"
      },
      "outputs": [],
      "source": [
        "#% of data between the 1 SD range\n",
        "(len(runs[(runs['Runs']>LL_2SD) & (runs['Runs']<UL_2SD)])/len(runs))*100"
      ],
      "id": "0aaaaad8"
    },
    {
      "cell_type": "code",
      "execution_count": null,
      "metadata": {
        "id": "2c3fcfc5"
      },
      "outputs": [],
      "source": [
        "#For 3 Std Dev away from the mean\n",
        "LL_3SD = Runs_Mean - (3*Runs_Std)\n",
        "UL_3SD = Runs_Mean + (3*Runs_Std)\n",
        "print(LL_3SD)\n",
        "print(UL_3SD)"
      ],
      "id": "2c3fcfc5"
    },
    {
      "cell_type": "code",
      "execution_count": null,
      "metadata": {
        "id": "bb94ff38"
      },
      "outputs": [],
      "source": [
        "#Count of the data between the 1 SD range\n",
        "len(runs[(runs['Runs']>LL_3SD) & (runs['Runs']<UL_3SD)])"
      ],
      "id": "bb94ff38"
    },
    {
      "cell_type": "code",
      "execution_count": null,
      "metadata": {
        "id": "331c04fc"
      },
      "outputs": [],
      "source": [
        "#% of data between the 1 SD range\n",
        "(len(runs[(runs['Runs']>LL_3SD) & (runs['Runs']<UL_3SD)])/len(runs))*100"
      ],
      "id": "331c04fc"
    },
    {
      "cell_type": "code",
      "execution_count": null,
      "metadata": {
        "id": "7b06c45d"
      },
      "outputs": [],
      "source": [
        "# Outliers\n",
        "len(runs[(runs['Runs']<LL_3SD) | (runs['Runs']>UL_3SD)])"
      ],
      "id": "7b06c45d"
    },
    {
      "cell_type": "code",
      "execution_count": null,
      "metadata": {
        "id": "8c02bfcf"
      },
      "outputs": [],
      "source": [
        "runs[(runs['Runs']<LL_3SD) | (runs['Runs']>UL_3SD)]"
      ],
      "id": "8c02bfcf"
    },
    {
      "cell_type": "code",
      "execution_count": null,
      "metadata": {
        "id": "6595aa06"
      },
      "outputs": [],
      "source": [
        "runs['Runs'].skew()"
      ],
      "id": "6595aa06"
    },
    {
      "cell_type": "markdown",
      "metadata": {
        "id": "RTyyfkclindO"
      },
      "source": [
        "Skewness Range\n",
        "\n",
        "-1 _____________ -0.5 _____________ 0 _____________ 0.5 _____________ 1"
      ],
      "id": "RTyyfkclindO"
    },
    {
      "cell_type": "markdown",
      "metadata": {
        "id": "ec68d3d8"
      },
      "source": [
        "# Box Plot Calculations"
      ],
      "id": "ec68d3d8"
    },
    {
      "cell_type": "code",
      "execution_count": null,
      "metadata": {
        "id": "a4f62729",
        "colab": {
          "base_uri": "https://localhost:8080/"
        },
        "outputId": "d9544a41-e1a5-49a0-88fc-440120fe587b"
      },
      "outputs": [
        {
          "output_type": "stream",
          "name": "stdout",
          "text": [
            "Q1 is :  9\n"
          ]
        }
      ],
      "source": [
        "count_Data=len(runs)\n",
        "if count_Data % 4 == 0 : # even\n",
        "    n1=count_Data / 4\n",
        "    n2=n1+1\n",
        "    Q1=(runs.Runs[n1-1] + runs.Runs[n2-1]) / 2\n",
        "else: # odd\n",
        "    n1=count_Data / 4\n",
        "    Q1=runs.Runs[round(n1)-1]\n",
        "print('Q1 is : ',Q1)"
      ],
      "id": "a4f62729"
    },
    {
      "cell_type": "code",
      "source": [
        "150/4"
      ],
      "metadata": {
        "colab": {
          "base_uri": "https://localhost:8080/"
        },
        "id": "bGU8x5y1-kbY",
        "outputId": "08f467e2-b661-4385-8e88-1754034c087e"
      },
      "id": "bGU8x5y1-kbY",
      "execution_count": null,
      "outputs": [
        {
          "output_type": "execute_result",
          "data": {
            "text/plain": [
              "37.5"
            ]
          },
          "metadata": {},
          "execution_count": 10
        }
      ]
    },
    {
      "cell_type": "code",
      "source": [
        "import math\n",
        "math.floor(12.9)\n",
        "math.ceil(12.4)"
      ],
      "metadata": {
        "colab": {
          "base_uri": "https://localhost:8080/"
        },
        "id": "WV19qN1SCeUy",
        "outputId": "525a8f49-6b95-4437-d990-5a900decc492"
      },
      "id": "WV19qN1SCeUy",
      "execution_count": null,
      "outputs": [
        {
          "output_type": "execute_result",
          "data": {
            "text/plain": [
              "13"
            ]
          },
          "metadata": {},
          "execution_count": 29
        }
      ]
    },
    {
      "cell_type": "code",
      "source": [
        "import math\n",
        "def Q1(i):\n",
        "  list(i).sort()\n",
        "  ind=math.ceil(len(i)/4)\n",
        "  print('The index of the Q1 is', ind)\n",
        "  x=i[ind-1]   # Consider the zero indexation, so to find 38th value, use 37th index\n",
        "  return x"
      ],
      "metadata": {
        "id": "NFwrMOdvjX46"
      },
      "id": "NFwrMOdvjX46",
      "execution_count": null,
      "outputs": []
    },
    {
      "cell_type": "code",
      "source": [
        "Q1(runs['Runs'])"
      ],
      "metadata": {
        "id": "LlMtdLGEkBp_",
        "colab": {
          "base_uri": "https://localhost:8080/"
        },
        "outputId": "fe32c6d9-0946-4100-a316-38563514f1e1"
      },
      "id": "LlMtdLGEkBp_",
      "execution_count": null,
      "outputs": [
        {
          "output_type": "stream",
          "name": "stdout",
          "text": [
            "The index of the Q1 is 38\n"
          ]
        },
        {
          "output_type": "execute_result",
          "data": {
            "text/plain": [
              "9"
            ]
          },
          "metadata": {},
          "execution_count": 6
        }
      ]
    },
    {
      "cell_type": "code",
      "source": [
        "def Q3(i):\n",
        "  list(i).sort()\n",
        "  ind=math.ceil((len(i)/4)*3)\n",
        "  print('The index of Quartile 3 is',ind)\n",
        "  Q3=i[ind-1]\n",
        "  return Q3"
      ],
      "metadata": {
        "id": "05AW4WNikbBH"
      },
      "id": "05AW4WNikbBH",
      "execution_count": null,
      "outputs": []
    },
    {
      "cell_type": "code",
      "source": [
        "Q3(runs['Runs'])"
      ],
      "metadata": {
        "id": "4GWIXRF0kqJw",
        "colab": {
          "base_uri": "https://localhost:8080/"
        },
        "outputId": "0ea6dc4b-1f6b-4f2b-aa8e-5b50e82f0c1d"
      },
      "id": "4GWIXRF0kqJw",
      "execution_count": null,
      "outputs": [
        {
          "output_type": "stream",
          "name": "stdout",
          "text": [
            "The index of Quartile 3 is 113\n"
          ]
        },
        {
          "output_type": "execute_result",
          "data": {
            "text/plain": [
              "68"
            ]
          },
          "metadata": {},
          "execution_count": 8
        }
      ]
    },
    {
      "cell_type": "code",
      "source": [
        "import numpy as np\n",
        "Q1=np.quantile(runs['Runs'],0.25)\n",
        "Q3=np.quantile(runs['Runs'],0.75)\n",
        "print(Q1)\n",
        "print(Q3)\n",
        "IQR=Q3 - Q1\n",
        "IQR"
      ],
      "metadata": {
        "id": "oMCQM1fwmCPk",
        "colab": {
          "base_uri": "https://localhost:8080/"
        },
        "outputId": "aca7f9eb-a61d-4948-8e63-44daac9cffc3"
      },
      "id": "oMCQM1fwmCPk",
      "execution_count": null,
      "outputs": [
        {
          "output_type": "stream",
          "name": "stdout",
          "text": [
            "9.0\n",
            "68.0\n"
          ]
        },
        {
          "output_type": "execute_result",
          "data": {
            "text/plain": [
              "59.0"
            ]
          },
          "metadata": {},
          "execution_count": 12
        }
      ]
    },
    {
      "cell_type": "code",
      "source": [
        "Upper_Limit = Q3 + 1.5*IQR\n",
        "print(Upper_Limit)\n",
        "Lower_Limit = Q1 - 1.5*IQR\n",
        "print(Lower_Limit)"
      ],
      "metadata": {
        "id": "KABlpNcImXP7",
        "colab": {
          "base_uri": "https://localhost:8080/"
        },
        "outputId": "ebe7c294-b769-4a9b-f3e4-b238d5329e52"
      },
      "id": "KABlpNcImXP7",
      "execution_count": null,
      "outputs": [
        {
          "output_type": "stream",
          "name": "stdout",
          "text": [
            "156.5\n",
            "-79.5\n"
          ]
        }
      ]
    },
    {
      "cell_type": "code",
      "source": [
        "runs[(runs['Runs'] > Upper_Limit) | (runs['Runs'] < Lower_Limit)]"
      ],
      "metadata": {
        "colab": {
          "base_uri": "https://localhost:8080/",
          "height": 80
        },
        "id": "HcUoExkxGe4K",
        "outputId": "115ab6f5-3429-4db7-cb44-21434898c673"
      },
      "id": "HcUoExkxGe4K",
      "execution_count": null,
      "outputs": [
        {
          "output_type": "execute_result",
          "data": {
            "text/plain": [
              "     Runs\n",
              "149   183"
            ],
            "text/html": [
              "\n",
              "  <div id=\"df-ff453866-95d6-4684-a52a-07022f538362\" class=\"colab-df-container\">\n",
              "    <div>\n",
              "<style scoped>\n",
              "    .dataframe tbody tr th:only-of-type {\n",
              "        vertical-align: middle;\n",
              "    }\n",
              "\n",
              "    .dataframe tbody tr th {\n",
              "        vertical-align: top;\n",
              "    }\n",
              "\n",
              "    .dataframe thead th {\n",
              "        text-align: right;\n",
              "    }\n",
              "</style>\n",
              "<table border=\"1\" class=\"dataframe\">\n",
              "  <thead>\n",
              "    <tr style=\"text-align: right;\">\n",
              "      <th></th>\n",
              "      <th>Runs</th>\n",
              "    </tr>\n",
              "  </thead>\n",
              "  <tbody>\n",
              "    <tr>\n",
              "      <th>149</th>\n",
              "      <td>183</td>\n",
              "    </tr>\n",
              "  </tbody>\n",
              "</table>\n",
              "</div>\n",
              "    <div class=\"colab-df-buttons\">\n",
              "\n",
              "  <div class=\"colab-df-container\">\n",
              "    <button class=\"colab-df-convert\" onclick=\"convertToInteractive('df-ff453866-95d6-4684-a52a-07022f538362')\"\n",
              "            title=\"Convert this dataframe to an interactive table.\"\n",
              "            style=\"display:none;\">\n",
              "\n",
              "  <svg xmlns=\"http://www.w3.org/2000/svg\" height=\"24px\" viewBox=\"0 -960 960 960\">\n",
              "    <path d=\"M120-120v-720h720v720H120Zm60-500h600v-160H180v160Zm220 220h160v-160H400v160Zm0 220h160v-160H400v160ZM180-400h160v-160H180v160Zm440 0h160v-160H620v160ZM180-180h160v-160H180v160Zm440 0h160v-160H620v160Z\"/>\n",
              "  </svg>\n",
              "    </button>\n",
              "\n",
              "  <style>\n",
              "    .colab-df-container {\n",
              "      display:flex;\n",
              "      gap: 12px;\n",
              "    }\n",
              "\n",
              "    .colab-df-convert {\n",
              "      background-color: #E8F0FE;\n",
              "      border: none;\n",
              "      border-radius: 50%;\n",
              "      cursor: pointer;\n",
              "      display: none;\n",
              "      fill: #1967D2;\n",
              "      height: 32px;\n",
              "      padding: 0 0 0 0;\n",
              "      width: 32px;\n",
              "    }\n",
              "\n",
              "    .colab-df-convert:hover {\n",
              "      background-color: #E2EBFA;\n",
              "      box-shadow: 0px 1px 2px rgba(60, 64, 67, 0.3), 0px 1px 3px 1px rgba(60, 64, 67, 0.15);\n",
              "      fill: #174EA6;\n",
              "    }\n",
              "\n",
              "    .colab-df-buttons div {\n",
              "      margin-bottom: 4px;\n",
              "    }\n",
              "\n",
              "    [theme=dark] .colab-df-convert {\n",
              "      background-color: #3B4455;\n",
              "      fill: #D2E3FC;\n",
              "    }\n",
              "\n",
              "    [theme=dark] .colab-df-convert:hover {\n",
              "      background-color: #434B5C;\n",
              "      box-shadow: 0px 1px 3px 1px rgba(0, 0, 0, 0.15);\n",
              "      filter: drop-shadow(0px 1px 2px rgba(0, 0, 0, 0.3));\n",
              "      fill: #FFFFFF;\n",
              "    }\n",
              "  </style>\n",
              "\n",
              "    <script>\n",
              "      const buttonEl =\n",
              "        document.querySelector('#df-ff453866-95d6-4684-a52a-07022f538362 button.colab-df-convert');\n",
              "      buttonEl.style.display =\n",
              "        google.colab.kernel.accessAllowed ? 'block' : 'none';\n",
              "\n",
              "      async function convertToInteractive(key) {\n",
              "        const element = document.querySelector('#df-ff453866-95d6-4684-a52a-07022f538362');\n",
              "        const dataTable =\n",
              "          await google.colab.kernel.invokeFunction('convertToInteractive',\n",
              "                                                    [key], {});\n",
              "        if (!dataTable) return;\n",
              "\n",
              "        const docLinkHtml = 'Like what you see? Visit the ' +\n",
              "          '<a target=\"_blank\" href=https://colab.research.google.com/notebooks/data_table.ipynb>data table notebook</a>'\n",
              "          + ' to learn more about interactive tables.';\n",
              "        element.innerHTML = '';\n",
              "        dataTable['output_type'] = 'display_data';\n",
              "        await google.colab.output.renderOutput(dataTable, element);\n",
              "        const docLink = document.createElement('div');\n",
              "        docLink.innerHTML = docLinkHtml;\n",
              "        element.appendChild(docLink);\n",
              "      }\n",
              "    </script>\n",
              "  </div>\n",
              "\n",
              "\n",
              "    </div>\n",
              "  </div>\n"
            ],
            "application/vnd.google.colaboratory.intrinsic+json": {
              "type": "dataframe",
              "summary": "{\n  \"name\": \"runs[(runs['Runs'] > Upper_Limit) | (runs['Runs'] < Lower_Limit)]\",\n  \"rows\": 1,\n  \"fields\": [\n    {\n      \"column\": \"Runs\",\n      \"properties\": {\n        \"dtype\": \"number\",\n        \"std\": null,\n        \"min\": 183,\n        \"max\": 183,\n        \"num_unique_values\": 1,\n        \"samples\": [\n          183\n        ],\n        \"semantic_type\": \"\",\n        \"description\": \"\"\n      }\n    }\n  ]\n}"
            }
          },
          "metadata": {},
          "execution_count": 13
        }
      ]
    },
    {
      "cell_type": "code",
      "execution_count": null,
      "metadata": {
        "id": "52ddf53d"
      },
      "outputs": [],
      "source": [
        "Runs=runs['Runs'].sort_values()\n",
        "Runs"
      ],
      "id": "52ddf53d"
    },
    {
      "cell_type": "code",
      "execution_count": null,
      "metadata": {
        "id": "a0d5cba5"
      },
      "outputs": [],
      "source": [
        "#Quartile 1\n",
        "Ind_Q1=round((len(runs['Runs'])/4)*1)\n",
        "print('Index of the Q1 is',Ind_Q1)\n",
        "Q1=int(runs.iloc[Ind_Q1-1,:])\n",
        "print('Q1 is',Q1)"
      ],
      "id": "a0d5cba5"
    },
    {
      "cell_type": "code",
      "execution_count": null,
      "metadata": {
        "id": "6e849d62"
      },
      "outputs": [],
      "source": [
        "#Quartile 2 / Median\n",
        "Ind_Q2=round((len(runs['Runs'])/4)*2)\n",
        "print('Index of the Q2 is',Ind_Q2)\n",
        "Q2=int(runs.iloc[Ind_Q2-1,:])\n",
        "print('Q2 is',Q2)"
      ],
      "id": "6e849d62"
    },
    {
      "cell_type": "code",
      "execution_count": null,
      "metadata": {
        "id": "6af885d7"
      },
      "outputs": [],
      "source": [
        "#Quartile 3\n",
        "Ind_Q3=round((len(runs['Runs'])/4)*3)\n",
        "print('Index of the Q3 is',Ind_Q3)\n",
        "Q3=int(runs.iloc[Ind_Q3-1,:])\n",
        "print('Q3 is',Q3)"
      ],
      "id": "6af885d7"
    },
    {
      "cell_type": "code",
      "execution_count": null,
      "metadata": {
        "id": "-unbn_O3ur0w"
      },
      "outputs": [],
      "source": [
        "a=list(range(1,11))\n",
        "Deciles=[]\n",
        "Ind=0\n",
        "for i in a:\n",
        "  Ind=round((len(runs['Runs'])/10)*i)\n",
        "  Deciles.append(int(runs.iloc[Ind-1,:]))\n",
        "\n",
        "Decile=['D1','D2','D3','D4','D5','D6','D7','D8','D9','D10']\n",
        "Deciles_DF=pd.DataFrame({'Decile':Decile,'Value':Deciles})\n",
        "Deciles_DF"
      ],
      "id": "-unbn_O3ur0w"
    },
    {
      "cell_type": "code",
      "execution_count": null,
      "metadata": {
        "id": "mN8bmBfrx8Ma",
        "colab": {
          "base_uri": "https://localhost:8080/",
          "height": 573
        },
        "outputId": "0b0e8e2f-8c83-4eea-92a8-3b1590f1fd33"
      },
      "outputs": [
        {
          "output_type": "execute_result",
          "data": {
            "text/plain": [
              "{'whiskers': [<matplotlib.lines.Line2D at 0x79af596de140>,\n",
              "  <matplotlib.lines.Line2D at 0x79af596de3e0>],\n",
              " 'caps': [<matplotlib.lines.Line2D at 0x79af596de680>,\n",
              "  <matplotlib.lines.Line2D at 0x79af596de920>],\n",
              " 'boxes': [<matplotlib.lines.Line2D at 0x79af596ddea0>],\n",
              " 'medians': [<matplotlib.lines.Line2D at 0x79af596debc0>],\n",
              " 'fliers': [<matplotlib.lines.Line2D at 0x79af596dee60>],\n",
              " 'means': []}"
            ]
          },
          "metadata": {},
          "execution_count": 4
        },
        {
          "output_type": "display_data",
          "data": {
            "text/plain": [
              "<Figure size 640x480 with 1 Axes>"
            ],
            "image/png": "[encoded data removed]"
          },
          "metadata": {}
        }
      ],
      "source": [
        "import matplotlib.pyplot as plt\n",
        "%matplotlib inline\n",
        "plt.boxplot(runs['Runs'])"
      ],
      "id": "mN8bmBfrx8Ma"
    },
    {
      "cell_type": "code",
      "execution_count": null,
      "metadata": {
        "id": "67e9eaa6"
      },
      "outputs": [],
      "source": [
        "from numpy.lib.function_base import quantile\n",
        "quantile(runs['Runs'])\n",
        "Inter_Quartile_Range=Q3-Q1\n",
        "print('Inter-Quartile-Range is',Inter_Quartile_Range)"
      ],
      "id": "67e9eaa6"
    },
    {
      "cell_type": "code",
      "execution_count": null,
      "metadata": {
        "id": "08d15d79"
      },
      "outputs": [],
      "source": [
        "Upper_Limit=Q3 + 1.5*Inter_Quartile_Range\n",
        "print('Upper_Limit is',Upper_Limit)\n",
        "Lower_Limit=Q1 - 1.5*Inter_Quartile_Range\n",
        "print('Lower_Limit is',Lower_Limit)"
      ],
      "id": "08d15d79"
    },
    {
      "cell_type": "code",
      "execution_count": null,
      "metadata": {
        "id": "be683892",
        "colab": {
          "base_uri": "https://localhost:8080/",
          "height": 80
        },
        "outputId": "1990d369-d567-4e8e-a536-9272122b4d04"
      },
      "outputs": [
        {
          "output_type": "execute_result",
          "data": {
            "text/plain": [
              "     Runs\n",
              "149   183"
            ],
            "text/html": [
              "\n",
              "  <div id=\"df-22be3486-ed2e-440c-ba81-aeb28c57f1b2\" class=\"colab-df-container\">\n",
              "    <div>\n",
              "<style scoped>\n",
              "    .dataframe tbody tr th:only-of-type {\n",
              "        vertical-align: middle;\n",
              "    }\n",
              "\n",
              "    .dataframe tbody tr th {\n",
              "        vertical-align: top;\n",
              "    }\n",
              "\n",
              "    .dataframe thead th {\n",
              "        text-align: right;\n",
              "    }\n",
              "</style>\n",
              "<table border=\"1\" class=\"dataframe\">\n",
              "  <thead>\n",
              "    <tr style=\"text-align: right;\">\n",
              "      <th></th>\n",
              "      <th>Runs</th>\n",
              "    </tr>\n",
              "  </thead>\n",
              "  <tbody>\n",
              "    <tr>\n",
              "      <th>149</th>\n",
              "      <td>183</td>\n",
              "    </tr>\n",
              "  </tbody>\n",
              "</table>\n",
              "</div>\n",
              "    <div class=\"colab-df-buttons\">\n",
              "\n",
              "  <div class=\"colab-df-container\">\n",
              "    <button class=\"colab-df-convert\" onclick=\"convertToInteractive('df-22be3486-ed2e-440c-ba81-aeb28c57f1b2')\"\n",
              "            title=\"Convert this dataframe to an interactive table.\"\n",
              "            style=\"display:none;\">\n",
              "\n",
              "  <svg xmlns=\"http://www.w3.org/2000/svg\" height=\"24px\" viewBox=\"0 -960 960 960\">\n",
              "    <path d=\"M120-120v-720h720v720H120Zm60-500h600v-160H180v160Zm220 220h160v-160H400v160Zm0 220h160v-160H400v160ZM180-400h160v-160H180v160Zm440 0h160v-160H620v160ZM180-180h160v-160H180v160Zm440 0h160v-160H620v160Z\"/>\n",
              "  </svg>\n",
              "    </button>\n",
              "\n",
              "  <style>\n",
              "    .colab-df-container {\n",
              "      display:flex;\n",
              "      gap: 12px;\n",
              "    }\n",
              "\n",
              "    .colab-df-convert {\n",
              "      background-color: #E8F0FE;\n",
              "      border: none;\n",
              "      border-radius: 50%;\n",
              "      cursor: pointer;\n",
              "      display: none;\n",
              "      fill: #1967D2;\n",
              "      height: 32px;\n",
              "      padding: 0 0 0 0;\n",
              "      width: 32px;\n",
              "    }\n",
              "\n",
              "    .colab-df-convert:hover {\n",
              "      background-color: #E2EBFA;\n",
              "      box-shadow: 0px 1px 2px rgba(60, 64, 67, 0.3), 0px 1px 3px 1px rgba(60, 64, 67, 0.15);\n",
              "      fill: #174EA6;\n",
              "    }\n",
              "\n",
              "    .colab-df-buttons div {\n",
              "      margin-bottom: 4px;\n",
              "    }\n",
              "\n",
              "    [theme=dark] .colab-df-convert {\n",
              "      background-color: #3B4455;\n",
              "      fill: #D2E3FC;\n",
              "    }\n",
              "\n",
              "    [theme=dark] .colab-df-convert:hover {\n",
              "      background-color: #434B5C;\n",
              "      box-shadow: 0px 1px 3px 1px rgba(0, 0, 0, 0.15);\n",
              "      filter: drop-shadow(0px 1px 2px rgba(0, 0, 0, 0.3));\n",
              "      fill: #FFFFFF;\n",
              "    }\n",
              "  </style>\n",
              "\n",
              "    <script>\n",
              "      const buttonEl =\n",
              "        document.querySelector('#df-22be3486-ed2e-440c-ba81-aeb28c57f1b2 button.colab-df-convert');\n",
              "      buttonEl.style.display =\n",
              "        google.colab.kernel.accessAllowed ? 'block' : 'none';\n",
              "\n",
              "      async function convertToInteractive(key) {\n",
              "        const element = document.querySelector('#df-22be3486-ed2e-440c-ba81-aeb28c57f1b2');\n",
              "        const dataTable =\n",
              "          await google.colab.kernel.invokeFunction('convertToInteractive',\n",
              "                                                    [key], {});\n",
              "        if (!dataTable) return;\n",
              "\n",
              "        const docLinkHtml = 'Like what you see? Visit the ' +\n",
              "          '<a target=\"_blank\" href=https://colab.research.google.com/notebooks/data_table.ipynb>data table notebook</a>'\n",
              "          + ' to learn more about interactive tables.';\n",
              "        element.innerHTML = '';\n",
              "        dataTable['output_type'] = 'display_data';\n",
              "        await google.colab.output.renderOutput(dataTable, element);\n",
              "        const docLink = document.createElement('div');\n",
              "        docLink.innerHTML = docLinkHtml;\n",
              "        element.appendChild(docLink);\n",
              "      }\n",
              "    </script>\n",
              "  </div>\n",
              "\n",
              "    </div>\n",
              "  </div>\n"
            ],
            "application/vnd.google.colaboratory.intrinsic+json": {
              "type": "dataframe",
              "variable_name": "Outliers",
              "summary": "{\n  \"name\": \"Outliers\",\n  \"rows\": 1,\n  \"fields\": [\n    {\n      \"column\": \"Runs\",\n      \"properties\": {\n        \"dtype\": \"number\",\n        \"std\": null,\n        \"min\": 183,\n        \"max\": 183,\n        \"num_unique_values\": 1,\n        \"samples\": [\n          183\n        ],\n        \"semantic_type\": \"\",\n        \"description\": \"\"\n      }\n    }\n  ]\n}"
            }
          },
          "metadata": {},
          "execution_count": 16
        }
      ],
      "source": [
        "Outliers= runs[(runs['Runs']>Upper_Limit) | (runs['Runs']<Lower_Limit)]\n",
        "Outliers"
      ],
      "id": "be683892"
    },
    {
      "cell_type": "code",
      "execution_count": null,
      "metadata": {
        "id": "1Jm8Glmsa80q"
      },
      "outputs": [],
      "source": [],
      "id": "1Jm8Glmsa80q"
    },
    {
      "cell_type": "code",
      "source": [
        "from google.colab import files\n",
        "uploaded = files.upload()"
      ],
      "metadata": {
        "colab": {
          "base_uri": "https://localhost:8080/",
          "height": 90
        },
        "id": "xmrOoePMN-Zy",
        "outputId": "f991970a-168b-4f9b-b140-37503962351d"
      },
      "id": "xmrOoePMN-Zy",
      "execution_count": null,
      "outputs": [
        {
          "output_type": "display_data",
          "data": {
            "text/plain": [
              "<IPython.core.display.HTML object>"
            ],
            "text/html": [
              "\n",
              "     <input type=\"file\" id=\"files-6bff0582-21db-46d3-8553-3c7a30d5ff58\" name=\"files[]\" multiple disabled\n",
              "        style=\"border:none\" />\n",
              "     <output id=\"result-6bff0582-21db-46d3-8553-3c7a30d5ff58\">\n",
              "      Upload widget is only available when the cell has been executed in the\n",
              "      current browser session. Please rerun this cell to enable.\n",
              "      </output>\n",
              "      <script>// Copyright 2017 Google LLC\n",
              "//\n",
              "// Licensed under the Apache License, Version 2.0 (the \"License\");\n",
              "// you may not use this file except in compliance with the License.\n",
              "// You may obtain a copy of the License at\n",
              "//\n",
              "//      http://www.apache.org/licenses/LICENSE-2.0\n",
              "//\n",
              "// Unless required by applicable law or agreed to in writing, software\n",
              "// distributed under the License is distributed on an \"AS IS\" BASIS,\n",
              "// WITHOUT WARRANTIES OR CONDITIONS OF ANY KIND, either express or implied.\n",
              "// See the License for the specific language governing permissions and\n",
              "// limitations under the License.\n",
              "\n",
              "/**\n",
              " * @fileoverview Helpers for google.colab Python module.\n",
              " */\n",
              "(function(scope) {\n",
              "function span(text, styleAttributes = {}) {\n",
              "  const element = document.createElement('span');\n",
              "  element.textContent = text;\n",
              "  for (const key of Object.keys(styleAttributes)) {\n",
              "    element.style[key] = styleAttributes[key];\n",
              "  }\n",
              "  return element;\n",
              "}\n",
              "\n",
              "// Max number of bytes which will be uploaded at a time.\n",
              "const MAX_PAYLOAD_SIZE = 100 * 1024;\n",
              "\n",
              "function _uploadFiles(inputId, outputId) {\n",
              "  const steps = uploadFilesStep(inputId, outputId);\n",
              "  const outputElement = document.getElementById(outputId);\n",
              "  // Cache steps on the outputElement to make it available for the next call\n",
              "  // to uploadFilesContinue from Python.\n",
              "  outputElement.steps = steps;\n",
              "\n",
              "  return _uploadFilesContinue(outputId);\n",
              "}\n",
              "\n",
              "// This is roughly an async generator (not supported in the browser yet),\n",
              "// where there are multiple asynchronous steps and the Python side is going\n",
              "// to poll for completion of each step.\n",
              "// This uses a Promise to block the python side on completion of each step,\n",
              "// then passes the result of the previous step as the input to the next step.\n",
              "function _uploadFilesContinue(outputId) {\n",
              "  const outputElement = document.getElementById(outputId);\n",
              "  const steps = outputElement.steps;\n",
              "\n",
              "  const next = steps.next(outputElement.lastPromiseValue);\n",
              "  return Promise.resolve(next.value.promise).then((value) => {\n",
              "    // Cache the last promise value to make it available to the next\n",
              "    // step of the generator.\n",
              "    outputElement.lastPromiseValue = value;\n",
              "    return next.value.response;\n",
              "  });\n",
              "}\n",
              "\n",
              "/**\n",
              " * Generator function which is called between each async step of the upload\n",
              " * process.\n",
              " * @param {string} inputId Element ID of the input file picker element.\n",
              " * @param {string} outputId Element ID of the output display.\n",
              " * @return {!Iterable<!Object>} Iterable of next steps.\n",
              " */\n",
              "function* uploadFilesStep(inputId, outputId) {\n",
              "  const inputElement = document.getElementById(inputId);\n",
              "  inputElement.disabled = false;\n",
              "\n",
              "  const outputElement = document.getElementById(outputId);\n",
              "  outputElement.innerHTML = '';\n",
              "\n",
              "  const pickedPromise = new Promise((resolve) => {\n",
              "    inputElement.addEventListener('change', (e) => {\n",
              "      resolve(e.target.files);\n",
              "    });\n",
              "  });\n",
              "\n",
              "  const cancel = document.createElement('button');\n",
              "  inputElement.parentElement.appendChild(cancel);\n",
              "  cancel.textContent = 'Cancel upload';\n",
              "  const cancelPromise = new Promise((resolve) => {\n",
              "    cancel.onclick = () => {\n",
              "      resolve(null);\n",
              "    };\n",
              "  });\n",
              "\n",
              "  // Wait for the user to pick the files.\n",
              "  const files = yield {\n",
              "    promise: Promise.race([pickedPromise, cancelPromise]),\n",
              "    response: {\n",
              "      action: 'starting',\n",
              "    }\n",
              "  };\n",
              "\n",
              "  cancel.remove();\n",
              "\n",
              "  // Disable the input element since further picks are not allowed.\n",
              "  inputElement.disabled = true;\n",
              "\n",
              "  if (!files) {\n",
              "    return {\n",
              "      response: {\n",
              "        action: 'complete',\n",
              "      }\n",
              "    };\n",
              "  }\n",
              "\n",
              "  for (const file of files) {\n",
              "    const li = document.createElement('li');\n",
              "    li.append(span(file.name, {fontWeight: 'bold'}));\n",
              "    li.append(span(\n",
              "        `(${file.type || 'n/a'}) - ${file.size} bytes, ` +\n",
              "        `last modified: ${\n",
              "            file.lastModifiedDate ? file.lastModifiedDate.toLocaleDateString() :\n",
              "                                    'n/a'} - `));\n",
              "    const percent = span('0% done');\n",
              "    li.appendChild(percent);\n",
              "\n",
              "    outputElement.appendChild(li);\n",
              "\n",
              "    const fileDataPromise = new Promise((resolve) => {\n",
              "      const reader = new FileReader();\n",
              "      reader.onload = (e) => {\n",
              "        resolve(e.target.result);\n",
              "      };\n",
              "      reader.readAsArrayBuffer(file);\n",
              "    });\n",
              "    // Wait for the data to be ready.\n",
              "    let fileData = yield {\n",
              "      promise: fileDataPromise,\n",
              "      response: {\n",
              "        action: 'continue',\n",
              "      }\n",
              "    };\n",
              "\n",
              "    // Use a chunked sending to avoid message size limits. See b/62115660.\n",
              "    let position = 0;\n",
              "    do {\n",
              "      const length = Math.min(fileData.byteLength - position, MAX_PAYLOAD_SIZE);\n",
              "      const chunk = new Uint8Array(fileData, position, length);\n",
              "      position += length;\n",
              "\n",
              "      const base64 = btoa(String.fromCharCode.apply(null, chunk));\n",
              "      yield {\n",
              "        response: {\n",
              "          action: 'append',\n",
              "          file: file.name,\n",
              "          data: base64,\n",
              "        },\n",
              "      };\n",
              "\n",
              "      let percentDone = fileData.byteLength === 0 ?\n",
              "          100 :\n",
              "          Math.round((position / fileData.byteLength) * 100);\n",
              "      percent.textContent = `${percentDone}% done`;\n",
              "\n",
              "    } while (position < fileData.byteLength);\n",
              "  }\n",
              "\n",
              "  // All done.\n",
              "  yield {\n",
              "    response: {\n",
              "      action: 'complete',\n",
              "    }\n",
              "  };\n",
              "}\n",
              "\n",
              "scope.google = scope.google || {};\n",
              "scope.google.colab = scope.google.colab || {};\n",
              "scope.google.colab._files = {\n",
              "  _uploadFiles,\n",
              "  _uploadFilesContinue,\n",
              "};\n",
              "})(self);\n",
              "</script> "
            ]
          },
          "metadata": {}
        },
        {
          "output_type": "stream",
          "name": "stdout",
          "text": [
            "Saving Temperature Data Histogram.xlsx to Temperature Data Histogram.xlsx\n"
          ]
        }
      ]
    },
    {
      "cell_type": "code",
      "source": [
        "import pandas as pd\n",
        "temp=pd.read_excel('Temperature Data Histogram.xlsx')\n",
        "temp"
      ],
      "metadata": {
        "colab": {
          "base_uri": "https://localhost:8080/",
          "height": 423
        },
        "id": "Vp-JOMDHOSir",
        "outputId": "9eaa0ba3-1050-4c9c-973c-afce56eaecfa"
      },
      "id": "Vp-JOMDHOSir",
      "execution_count": null,
      "outputs": [
        {
          "output_type": "execute_result",
          "data": {
            "text/plain": [
              "     Temp\n",
              "0     5.1\n",
              "1     4.9\n",
              "2     4.7\n",
              "3     4.6\n",
              "4     5.0\n",
              "..    ...\n",
              "145   6.7\n",
              "146   6.3\n",
              "147   6.5\n",
              "148   6.2\n",
              "149   5.9\n",
              "\n",
              "[150 rows x 1 columns]"
            ],
            "text/html": [
              "\n",
              "  <div id=\"df-63f1f373-cd41-421f-b59e-3279f6b5dc75\" class=\"colab-df-container\">\n",
              "    <div>\n",
              "<style scoped>\n",
              "    .dataframe tbody tr th:only-of-type {\n",
              "        vertical-align: middle;\n",
              "    }\n",
              "\n",
              "    .dataframe tbody tr th {\n",
              "        vertical-align: top;\n",
              "    }\n",
              "\n",
              "    .dataframe thead th {\n",
              "        text-align: right;\n",
              "    }\n",
              "</style>\n",
              "<table border=\"1\" class=\"dataframe\">\n",
              "  <thead>\n",
              "    <tr style=\"text-align: right;\">\n",
              "      <th></th>\n",
              "      <th>Temp</th>\n",
              "    </tr>\n",
              "  </thead>\n",
              "  <tbody>\n",
              "    <tr>\n",
              "      <th>0</th>\n",
              "      <td>5.1</td>\n",
              "    </tr>\n",
              "    <tr>\n",
              "      <th>1</th>\n",
              "      <td>4.9</td>\n",
              "    </tr>\n",
              "    <tr>\n",
              "      <th>2</th>\n",
              "      <td>4.7</td>\n",
              "    </tr>\n",
              "    <tr>\n",
              "      <th>3</th>\n",
              "      <td>4.6</td>\n",
              "    </tr>\n",
              "    <tr>\n",
              "      <th>4</th>\n",
              "      <td>5.0</td>\n",
              "    </tr>\n",
              "    <tr>\n",
              "      <th>...</th>\n",
              "      <td>...</td>\n",
              "    </tr>\n",
              "    <tr>\n",
              "      <th>145</th>\n",
              "      <td>6.7</td>\n",
              "    </tr>\n",
              "    <tr>\n",
              "      <th>146</th>\n",
              "      <td>6.3</td>\n",
              "    </tr>\n",
              "    <tr>\n",
              "      <th>147</th>\n",
              "      <td>6.5</td>\n",
              "    </tr>\n",
              "    <tr>\n",
              "      <th>148</th>\n",
              "      <td>6.2</td>\n",
              "    </tr>\n",
              "    <tr>\n",
              "      <th>149</th>\n",
              "      <td>5.9</td>\n",
              "    </tr>\n",
              "  </tbody>\n",
              "</table>\n",
              "<p>150 rows × 1 columns</p>\n",
              "</div>\n",
              "    <div class=\"colab-df-buttons\">\n",
              "\n",
              "  <div class=\"colab-df-container\">\n",
              "    <button class=\"colab-df-convert\" onclick=\"convertToInteractive('df-63f1f373-cd41-421f-b59e-3279f6b5dc75')\"\n",
              "            title=\"Convert this dataframe to an interactive table.\"\n",
              "            style=\"display:none;\">\n",
              "\n",
              "  <svg xmlns=\"http://www.w3.org/2000/svg\" height=\"24px\" viewBox=\"0 -960 960 960\">\n",
              "    <path d=\"M120-120v-720h720v720H120Zm60-500h600v-160H180v160Zm220 220h160v-160H400v160Zm0 220h160v-160H400v160ZM180-400h160v-160H180v160Zm440 0h160v-160H620v160ZM180-180h160v-160H180v160Zm440 0h160v-160H620v160Z\"/>\n",
              "  </svg>\n",
              "    </button>\n",
              "\n",
              "  <style>\n",
              "    .colab-df-container {\n",
              "      display:flex;\n",
              "      gap: 12px;\n",
              "    }\n",
              "\n",
              "    .colab-df-convert {\n",
              "      background-color: #E8F0FE;\n",
              "      border: none;\n",
              "      border-radius: 50%;\n",
              "      cursor: pointer;\n",
              "      display: none;\n",
              "      fill: #1967D2;\n",
              "      height: 32px;\n",
              "      padding: 0 0 0 0;\n",
              "      width: 32px;\n",
              "    }\n",
              "\n",
              "    .colab-df-convert:hover {\n",
              "      background-color: #E2EBFA;\n",
              "      box-shadow: 0px 1px 2px rgba(60, 64, 67, 0.3), 0px 1px 3px 1px rgba(60, 64, 67, 0.15);\n",
              "      fill: #174EA6;\n",
              "    }\n",
              "\n",
              "    .colab-df-buttons div {\n",
              "      margin-bottom: 4px;\n",
              "    }\n",
              "\n",
              "    [theme=dark] .colab-df-convert {\n",
              "      background-color: #3B4455;\n",
              "      fill: #D2E3FC;\n",
              "    }\n",
              "\n",
              "    [theme=dark] .colab-df-convert:hover {\n",
              "      background-color: #434B5C;\n",
              "      box-shadow: 0px 1px 3px 1px rgba(0, 0, 0, 0.15);\n",
              "      filter: drop-shadow(0px 1px 2px rgba(0, 0, 0, 0.3));\n",
              "      fill: #FFFFFF;\n",
              "    }\n",
              "  </style>\n",
              "\n",
              "    <script>\n",
              "      const buttonEl =\n",
              "        document.querySelector('#df-63f1f373-cd41-421f-b59e-3279f6b5dc75 button.colab-df-convert');\n",
              "      buttonEl.style.display =\n",
              "        google.colab.kernel.accessAllowed ? 'block' : 'none';\n",
              "\n",
              "      async function convertToInteractive(key) {\n",
              "        const element = document.querySelector('#df-63f1f373-cd41-421f-b59e-3279f6b5dc75');\n",
              "        const dataTable =\n",
              "          await google.colab.kernel.invokeFunction('convertToInteractive',\n",
              "                                                    [key], {});\n",
              "        if (!dataTable) return;\n",
              "\n",
              "        const docLinkHtml = 'Like what you see? Visit the ' +\n",
              "          '<a target=\"_blank\" href=https://colab.research.google.com/notebooks/data_table.ipynb>data table notebook</a>'\n",
              "          + ' to learn more about interactive tables.';\n",
              "        element.innerHTML = '';\n",
              "        dataTable['output_type'] = 'display_data';\n",
              "        await google.colab.output.renderOutput(dataTable, element);\n",
              "        const docLink = document.createElement('div');\n",
              "        docLink.innerHTML = docLinkHtml;\n",
              "        element.appendChild(docLink);\n",
              "      }\n",
              "    </script>\n",
              "  </div>\n",
              "\n",
              "\n",
              "<div id=\"df-af4ff6d1-3f75-4e33-bc62-f93697caf283\">\n",
              "  <button class=\"colab-df-quickchart\" onclick=\"quickchart('df-af4ff6d1-3f75-4e33-bc62-f93697caf283')\"\n",
              "            title=\"Suggest charts\"\n",
              "            style=\"display:none;\">\n",
              "\n",
              "<svg xmlns=\"http://www.w3.org/2000/svg\" height=\"24px\"viewBox=\"0 0 24 24\"\n",
              "     width=\"24px\">\n",
              "    <g>\n",
              "        <path d=\"M19 3H5c-1.1 0-2 .9-2 2v14c0 1.1.9 2 2 2h14c1.1 0 2-.9 2-2V5c0-1.1-.9-2-2-2zM9 17H7v-7h2v7zm4 0h-2V7h2v10zm4 0h-2v-4h2v4z\"/>\n",
              "    </g>\n",
              "</svg>\n",
              "  </button>\n",
              "\n",
              "<style>\n",
              "  .colab-df-quickchart {\n",
              "      --bg-color: #E8F0FE;\n",
              "      --fill-color: #1967D2;\n",
              "      --hover-bg-color: #E2EBFA;\n",
              "      --hover-fill-color: #174EA6;\n",
              "      --disabled-fill-color: #AAA;\n",
              "      --disabled-bg-color: #DDD;\n",
              "  }\n",
              "\n",
              "  [theme=dark] .colab-df-quickchart {\n",
              "      --bg-color: #3B4455;\n",
              "      --fill-color: #D2E3FC;\n",
              "      --hover-bg-color: #434B5C;\n",
              "      --hover-fill-color: #FFFFFF;\n",
              "      --disabled-bg-color: #3B4455;\n",
              "      --disabled-fill-color: #666;\n",
              "  }\n",
              "\n",
              "  .colab-df-quickchart {\n",
              "    background-color: var(--bg-color);\n",
              "    border: none;\n",
              "    border-radius: 50%;\n",
              "    cursor: pointer;\n",
              "    display: none;\n",
              "    fill: var(--fill-color);\n",
              "    height: 32px;\n",
              "    padding: 0;\n",
              "    width: 32px;\n",
              "  }\n",
              "\n",
              "  .colab-df-quickchart:hover {\n",
              "    background-color: var(--hover-bg-color);\n",
              "    box-shadow: 0 1px 2px rgba(60, 64, 67, 0.3), 0 1px 3px 1px rgba(60, 64, 67, 0.15);\n",
              "    fill: var(--button-hover-fill-color);\n",
              "  }\n",
              "\n",
              "  .colab-df-quickchart-complete:disabled,\n",
              "  .colab-df-quickchart-complete:disabled:hover {\n",
              "    background-color: var(--disabled-bg-color);\n",
              "    fill: var(--disabled-fill-color);\n",
              "    box-shadow: none;\n",
              "  }\n",
              "\n",
              "  .colab-df-spinner {\n",
              "    border: 2px solid var(--fill-color);\n",
              "    border-color: transparent;\n",
              "    border-bottom-color: var(--fill-color);\n",
              "    animation:\n",
              "      spin 1s steps(1) infinite;\n",
              "  }\n",
              "\n",
              "  @keyframes spin {\n",
              "    0% {\n",
              "      border-color: transparent;\n",
              "      border-bottom-color: var(--fill-color);\n",
              "      border-left-color: var(--fill-color);\n",
              "    }\n",
              "    20% {\n",
              "      border-color: transparent;\n",
              "      border-left-color: var(--fill-color);\n",
              "      border-top-color: var(--fill-color);\n",
              "    }\n",
              "    30% {\n",
              "      border-color: transparent;\n",
              "      border-left-color: var(--fill-color);\n",
              "      border-top-color: var(--fill-color);\n",
              "      border-right-color: var(--fill-color);\n",
              "    }\n",
              "    40% {\n",
              "      border-color: transparent;\n",
              "      border-right-color: var(--fill-color);\n",
              "      border-top-color: var(--fill-color);\n",
              "    }\n",
              "    60% {\n",
              "      border-color: transparent;\n",
              "      border-right-color: var(--fill-color);\n",
              "    }\n",
              "    80% {\n",
              "      border-color: transparent;\n",
              "      border-right-color: var(--fill-color);\n",
              "      border-bottom-color: var(--fill-color);\n",
              "    }\n",
              "    90% {\n",
              "      border-color: transparent;\n",
              "      border-bottom-color: var(--fill-color);\n",
              "    }\n",
              "  }\n",
              "</style>\n",
              "\n",
              "  <script>\n",
              "    async function quickchart(key) {\n",
              "      const quickchartButtonEl =\n",
              "        document.querySelector('#' + key + ' button');\n",
              "      quickchartButtonEl.disabled = true;  // To prevent multiple clicks.\n",
              "      quickchartButtonEl.classList.add('colab-df-spinner');\n",
              "      try {\n",
              "        const charts = await google.colab.kernel.invokeFunction(\n",
              "            'suggestCharts', [key], {});\n",
              "      } catch (error) {\n",
              "        console.error('Error during call to suggestCharts:', error);\n",
              "      }\n",
              "      quickchartButtonEl.classList.remove('colab-df-spinner');\n",
              "      quickchartButtonEl.classList.add('colab-df-quickchart-complete');\n",
              "    }\n",
              "    (() => {\n",
              "      let quickchartButtonEl =\n",
              "        document.querySelector('#df-af4ff6d1-3f75-4e33-bc62-f93697caf283 button');\n",
              "      quickchartButtonEl.style.display =\n",
              "        google.colab.kernel.accessAllowed ? 'block' : 'none';\n",
              "    })();\n",
              "  </script>\n",
              "</div>\n",
              "    </div>\n",
              "  </div>\n"
            ],
            "application/vnd.google.colaboratory.intrinsic+json": {
              "type": "dataframe",
              "variable_name": "temp",
              "summary": "{\n  \"name\": \"temp\",\n  \"rows\": 150,\n  \"fields\": [\n    {\n      \"column\": \"Temp\",\n      \"properties\": {\n        \"dtype\": \"number\",\n        \"std\": 0.828066127977863,\n        \"min\": 4.3,\n        \"max\": 7.9,\n        \"num_unique_values\": 35,\n        \"samples\": [\n          6.2,\n          4.5,\n          5.6\n        ],\n        \"semantic_type\": \"\",\n        \"description\": \"\"\n      }\n    }\n  ]\n}"
            }
          },
          "metadata": {},
          "execution_count": 2
        }
      ]
    },
    {
      "cell_type": "code",
      "source": [
        "print(min(temp['Temp']))\n",
        "print(max(temp['Temp']))\n",
        "print(temp['Temp'].mean())\n",
        "temp['Temp'].hist(bins=8)"
      ],
      "metadata": {
        "colab": {
          "base_uri": "https://localhost:8080/",
          "height": 502
        },
        "id": "v7ZKtn-ROgzB",
        "outputId": "10f63d45-6580-47e8-895d-661213e90b16"
      },
      "id": "v7ZKtn-ROgzB",
      "execution_count": null,
      "outputs": [
        {
          "output_type": "stream",
          "name": "stdout",
          "text": [
            "4.3\n",
            "7.9\n",
            "5.843333333333334\n"
          ]
        },
        {
          "output_type": "execute_result",
          "data": {
            "text/plain": [
              "<Axes: >"
            ]
          },
          "metadata": {},
          "execution_count": 7
        },
        {
          "output_type": "display_data",
          "data": {
            "text/plain": [
              "<Figure size 640x480 with 1 Axes>"
            ],
            "image/png": "[encoded data removed]"
          },
          "metadata": {}
        }
      ]
    },
    {
      "cell_type": "code",
      "execution_count": null,
      "metadata": {
        "id": "9e6edbd0"
      },
      "outputs": [],
      "source": [
        "from scipy import stats\n",
        "#scipy.stats.binom.pmf(r,n,p)"
      ],
      "id": "9e6edbd0"
    },
    {
      "cell_type": "markdown",
      "metadata": {
        "id": "670fd04a"
      },
      "source": [
        "scipy.stats.binom.pmf(r,n,p)\n",
        "\n",
        "- n: the total number of trials or times the experiment will be carried out.\n",
        "- r: a list of integers from 0 to n, inclusive.\n",
        "- p: the probability that the outcome of a single experiment will be a success. The value of p must be between 0 and 1, inclusive.\n",
        "\n",
        "- PMF = Probability Mass Function\n",
        "\n",
        "- CDF = Cummulative Density Function"
      ],
      "id": "670fd04a"
    },
    {
      "cell_type": "code",
      "execution_count": null,
      "metadata": {
        "id": "UagtmmbXfYEw",
        "colab": {
          "base_uri": "https://localhost:8080/"
        },
        "outputId": "aa15048e-8b9f-49db-a63f-a5df3846bbfa"
      },
      "outputs": [
        {
          "output_type": "execute_result",
          "data": {
            "text/plain": [
              "0.17616076799999997"
            ]
          },
          "metadata": {},
          "execution_count": 3
        }
      ],
      "source": [
        "#80% of people who purchase pet insurance are women.\n",
        "#If 9 pet insurance owners are randomly selected, find the probability that exactly 6 are women.\n",
        "#stats.binom.pmf\n",
        "stats.binom.pmf(6,9,0.8)"
      ],
      "id": "UagtmmbXfYEw"
    },
    {
      "cell_type": "code",
      "source": [],
      "metadata": {
        "id": "D1LJ4cLEgc-t"
      },
      "id": "D1LJ4cLEgc-t",
      "execution_count": null,
      "outputs": []
    },
    {
      "cell_type": "code",
      "execution_count": null,
      "metadata": {
        "id": "JlDw8sGbfx3_",
        "colab": {
          "base_uri": "https://localhost:8080/"
        },
        "outputId": "d44ffc51-4757-41b3-85ff-a908978662f3"
      },
      "outputs": [
        {
          "output_type": "stream",
          "name": "stdout",
          "text": [
            "Probability that exactly 6 ask for water with their meal:  0.2508226559999998\n",
            "Probability that less than 9 ask for water with their meal:  0.9536425984\n",
            "Probability that more than 7 ask for water with their meal:  0.16728975359999998\n"
          ]
        }
      ],
      "source": [
        "#In a large restaurant, an average of 3 out of every 5 customers ask for water with their meal.\n",
        "#A random sample of 10 customers is selected.\n",
        "#Find the probability that exactly 6 ask for water with their meal.\n",
        "#Find the probability that less than 9 ask for water with their meal.\n",
        "#Find the probability that more than 7 ask for water with their meal.\n",
        "print('Probability that exactly 6 ask for water with their meal: ',stats.binom.pmf(6,10,3/5))\n",
        "print('Probability that less than 9 ask for water with their meal: ', stats.binom.cdf(8,10,3/5))\n",
        "print('Probability that more than 7 ask for water with their meal: ', 1 - stats.binom.cdf(7,10,3/5))"
      ],
      "id": "JlDw8sGbfx3_"
    },
    {
      "cell_type": "code",
      "source": [
        "from scipy import stats\n",
        "#cdf = cummulative density function\n",
        "#pmf = probability mass function\n",
        "heads=range(11)\n",
        "for i in heads:\n",
        "  print('The probability of',i,'heads in 10 tosses is:',stats.binom.pmf(i,10,0.5))\n",
        "print('-------------------------------------------------------------------------------')\n",
        "print('\\n')\n",
        "#Less than 4 heads\n",
        "print('Less than 4 heads:',stats.binom.cdf(3,10,0.5))\n",
        "#9 or less heads\n",
        "print('9 or less heads:',stats.binom.cdf(9,10,0.5))\n",
        "#Atleast 6 heads\n",
        "print('Atleast 6 heads:',1-stats.binom.cdf(k=5,n=10,p=0.5))\n",
        "#Exactly 8 heads\n",
        "print('Exactly 8 heads:',stats.binom.pmf(k=8,n=10,p=0.5))\n",
        "#More than 3 heads but lesser & or equal to 8 heads    #4,5,6,7,8\n",
        "print('3 < heads <= 8  :',stats.binom.cdf(k=8,n=10,p=0.5) - stats.binom.cdf(k=3,n=10,p=0.5))"
      ],
      "metadata": {
        "id": "1-VoShfYHjq1",
        "colab": {
          "base_uri": "https://localhost:8080/"
        },
        "outputId": "3131c516-f054-47e6-becc-dbc906e3aab3"
      },
      "id": "1-VoShfYHjq1",
      "execution_count": 7,
      "outputs": [
        {
          "output_type": "stream",
          "name": "stdout",
          "text": [
            "The probability of 0 heads in 10 tosses is: 0.0009765624999999989\n",
            "The probability of 1 heads in 10 tosses is: 0.009765625000000002\n",
            "The probability of 2 heads in 10 tosses is: 0.04394531250000004\n",
            "The probability of 3 heads in 10 tosses is: 0.1171875\n",
            "The probability of 4 heads in 10 tosses is: 0.2050781249999999\n",
            "The probability of 5 heads in 10 tosses is: 0.24609375000000003\n",
            "The probability of 6 heads in 10 tosses is: 0.2050781249999999\n",
            "The probability of 7 heads in 10 tosses is: 0.11718749999999999\n",
            "The probability of 8 heads in 10 tosses is: 0.04394531250000004\n",
            "The probability of 9 heads in 10 tosses is: 0.009765625000000002\n",
            "The probability of 10 heads in 10 tosses is: 0.0009765625\n",
            "-------------------------------------------------------------------------------\n",
            "\n",
            "\n",
            "Less than 4 heads: 0.171875\n",
            "9 or less heads: 0.9990234375\n",
            "Atleast 6 heads: 0.376953125\n",
            "Exactly 8 heads: 0.04394531250000004\n",
            "3 < heads <= 8  : 0.8173828125\n"
          ]
        }
      ]
    },
    {
      "cell_type": "code",
      "execution_count": null,
      "metadata": {
        "id": "dc7e05c5"
      },
      "outputs": [],
      "source": [
        "heads=range(11)\n",
        "stats.binom.pmf(heads,10,0.5)"
      ],
      "id": "dc7e05c5"
    },
    {
      "cell_type": "code",
      "execution_count": null,
      "metadata": {
        "id": "596b9ea9"
      },
      "outputs": [],
      "source": [
        "stats.binom.pmf(k=8,n=10,p=0.5)"
      ],
      "id": "596b9ea9"
    },
    {
      "cell_type": "code",
      "execution_count": 2,
      "metadata": {
        "id": "1c3a4e74",
        "colab": {
          "base_uri": "https://localhost:8080/"
        },
        "outputId": "8ed39cef-dcdb-466e-ecc1-281bc7270100"
      },
      "outputs": [
        {
          "output_type": "execute_result",
          "data": {
            "text/plain": [
              "0.376953125"
            ]
          },
          "metadata": {},
          "execution_count": 2
        }
      ],
      "source": [
        "#P(Atleast 6 heads)  #6,7,8,9,10 heads\n",
        "1-stats.binom.cdf(k=5,n=10,p=0.5)"
      ],
      "id": "1c3a4e74"
    },
    {
      "cell_type": "code",
      "execution_count": null,
      "metadata": {
        "id": "951b2a79"
      },
      "outputs": [],
      "source": [
        "#P(8 Or less than 8 Heads)\n",
        "stats.binom.cdf(k=8,n=10,p=0.5)"
      ],
      "id": "951b2a79"
    },
    {
      "cell_type": "code",
      "execution_count": null,
      "metadata": {
        "id": "aa6dafb6"
      },
      "outputs": [],
      "source": [
        "#P(5 or more)\n",
        "1-stats.binom.cdf(k=4,n=10,p=0.5)"
      ],
      "id": "aa6dafb6"
    },
    {
      "cell_type": "code",
      "execution_count": null,
      "metadata": {
        "id": "521230c1"
      },
      "outputs": [],
      "source": [
        "#P(5 or less heads)\n",
        "stats.binom.cdf(5,10,0.5)"
      ],
      "id": "521230c1"
    },
    {
      "cell_type": "code",
      "execution_count": null,
      "metadata": {
        "id": "48d842bd"
      },
      "outputs": [],
      "source": [
        "#P(Less than 3 heads)\n",
        "stats.binom.cdf(2,10,0.5)"
      ],
      "id": "48d842bd"
    },
    {
      "cell_type": "code",
      "execution_count": null,
      "metadata": {
        "id": "6584bb49"
      },
      "outputs": [],
      "source": [
        "#P(Atmost 7 heads)\n",
        "stats.binom.cdf(7,10,0.5)"
      ],
      "id": "6584bb49"
    },
    {
      "cell_type": "code",
      "execution_count": null,
      "metadata": {
        "id": "4350cb46"
      },
      "outputs": [],
      "source": [
        "#P(Less than 4 heads)\n",
        "stats.binom.cdf(3,10,0.5)"
      ],
      "id": "4350cb46"
    },
    {
      "cell_type": "code",
      "execution_count": null,
      "metadata": {
        "id": "163eaa8f"
      },
      "outputs": [],
      "source": [
        "#P(Greater than 5 heads)\n",
        "1-stats.binom.cdf(5,10,0.5)"
      ],
      "id": "163eaa8f"
    },
    {
      "cell_type": "code",
      "execution_count": null,
      "metadata": {
        "id": "eda487df"
      },
      "outputs": [],
      "source": [
        "#P(Not more than 2 heads)\n",
        "stats.binom.cdf(2,10,0.5)"
      ],
      "id": "eda487df"
    },
    {
      "cell_type": "code",
      "execution_count": null,
      "metadata": {
        "id": "48036c98"
      },
      "outputs": [],
      "source": [
        "import pandas as pd\n",
        "import numpy as np\n",
        "from scipy.stats import binom\n",
        "n = 10\n",
        "p = 0.5\n",
        "r_values = list(range(n + 1))\n",
        "print(r_values)\n",
        "print(                                                     )\n",
        "dist = [binom.pmf(r,n,p) for r in r_values]\n",
        "print(dist)\n",
        "print(                                                     )\n",
        "dist = [binom.pmf(r,n,p) for r in r_values]\n",
        "atleast_6 = sum(dist[6:10])\n",
        "print('P(ATLEAST 6 HEADS): ',atleast_6)\n",
        "atleast_8 = sum(dist[0:9])\n",
        "print('P( 8 OR LESS THAN 8 HEADS):',atleast_8)\n",
        "five_or_more = sum(dist[5:10])\n",
        "print('P(5 OR MORE HEADS):',five_or_more)\n",
        "less_than_3 = 1 - sum(dist[3:10])\n",
        "print('P(LESS THAN 3 HEADS):',less_than_3)\n",
        "atmost_7 = sum(dist[0:8])\n",
        "print('P(ATMOST 7 HEADS):',atmost_7)\n",
        "less_than_4 =sum(dist[0:4])\n",
        "print('P(LESS THAN 4 HEADS): ',less_than_4)\n",
        "greater_than_5= sum(dist[6:10])\n",
        "print('P(GREATER THAN 5 HEADS): ',greater_than_5)\n",
        "atmost_2 = sum(dist[0:3])\n",
        "print('P(NOT MORE THAN 2 HEADS):',atmost_2)\n"
      ],
      "id": "48036c98"
    },
    {
      "cell_type": "code",
      "execution_count": null,
      "metadata": {
        "id": "ad465cc2"
      },
      "outputs": [],
      "source": [
        "#80% of people who purchase pet insurance are women.\n",
        "#If 9 pet insurance owners are randomly selected, find the probability that exactly 6 are women.\n",
        "\n",
        "from scipy import stats\n",
        "stats.binom.pmf(6,9,0.8)"
      ],
      "id": "ad465cc2"
    },
    {
      "cell_type": "code",
      "execution_count": null,
      "metadata": {
        "id": "7ef8a023"
      },
      "outputs": [],
      "source": [
        "#In a large restaurant, an average of 3 out of every 5 customers ask for water with their meal. A random sample of 10 customers is selected.\n",
        "#Find the probability that exactly 6 ask for water with their meal, and find the probability that less than 9 ask for water with their meal.\n",
        "#80% of people who purchase pet insurance are women.\n",
        "#If 9 pet insurance owners are randomly selected, find the probability that exactly 6 are women.\n",
        "\n",
        "from scipy import stats\n",
        "stats.binom.pmf(6,10,0.6)"
      ],
      "id": "7ef8a023"
    },
    {
      "cell_type": "code",
      "execution_count": null,
      "metadata": {
        "id": "30f38878"
      },
      "outputs": [],
      "source": [
        "stats.binom.cdf(8,10,0.6)"
      ],
      "id": "30f38878"
    },
    {
      "cell_type": "code",
      "execution_count": null,
      "metadata": {
        "id": "e10e9799",
        "colab": {
          "base_uri": "https://localhost:8080/"
        },
        "outputId": "9bcf0644-6728-41a3-87ea-c57f75d51483"
      },
      "outputs": [
        {
          "output_type": "stream",
          "name": "stdout",
          "text": [
            "Mode of the data is:  0    7\n",
            "1    9\n",
            "dtype: int64\n",
            "Median of the data is:  7.0\n",
            "Mean of the data is:  7.0\n",
            "Standard Deviation of the data is:  2.345207879911715\n",
            "Standard Deviation of the updated data is:  6.082762530298219\n"
          ]
        }
      ],
      "source": [
        "#Given the data set: 4, 10, 7, 7, 6, 9, 3, 8, 9. Find the mode, the median, the mean, the sample standard deviation.\n",
        "#If we replace the data value 6 in the data set above by 24, will the standard deviation increase, decrease or stay the same?\n",
        "import pandas as pd\n",
        "a=pd.Series([4, 10, 7, 7, 6, 9, 3, 8, 9])\n",
        "print('Mode of the data is: ',a.mode())\n",
        "print('Median of the data is: ',a.median())\n",
        "print('Mean of the data is: ',a.mean())\n",
        "print('Standard Deviation of the data is: ',a.std())\n",
        "a=pd.Series([4, 10, 7, 7, 24, 9, 3, 8, 9])\n",
        "print('Standard Deviation of the updated data is: ',a.std())\n",
        "#Std Deviation will increase if we replace 6 with 24."
      ],
      "id": "e10e9799"
    },
    {
      "cell_type": "code",
      "execution_count": null,
      "metadata": {
        "id": "cfa1d18b"
      },
      "outputs": [],
      "source": [
        "#Calculation of Mode\n",
        "x=[4, 10, 7, 7, 6, 9, 3, 8, 9]\n",
        "x.sort()\n",
        "print(x)\n",
        "dict1={}\n",
        "for i in x:\n",
        "    dict1[i]=x.count(i)\n",
        "mode = [k for k, v in dict1.items() if v == max(dict1.values())]\n",
        "print(\"mode is\",mode)"
      ],
      "id": "cfa1d18b"
    },
    {
      "cell_type": "code",
      "execution_count": null,
      "metadata": {
        "id": "b1bdf2fb"
      },
      "outputs": [],
      "source": [
        "a=[4, 10, 7, 7, 6, 9, 3, 8, 9]\n",
        "a.sort()\n",
        "print(a)\n",
        "print(len(a))\n",
        "ind1=(round(len(a)/2))-1\n",
        "ind2=ind1+1\n",
        "median=(a[ind1]+a[ind2])/2\n",
        "print(\"median is:\",median)"
      ],
      "id": "b1bdf2fb"
    },
    {
      "cell_type": "code",
      "execution_count": null,
      "metadata": {
        "id": "d186a21d"
      },
      "outputs": [],
      "source": [
        "a=pd.Series([4, 10, 7, 7, 6, 9, 3, 8, 9])\n",
        "a.mean()"
      ],
      "id": "d186a21d"
    },
    {
      "cell_type": "code",
      "execution_count": null,
      "metadata": {
        "id": "d95ecea6"
      },
      "outputs": [],
      "source": [
        "import numpy as np\n",
        "round(np.std(a,ddof=1),4)"
      ],
      "id": "d95ecea6"
    },
    {
      "cell_type": "code",
      "execution_count": null,
      "metadata": {
        "id": "0d5f6b1b"
      },
      "outputs": [],
      "source": [
        "#Replacing 6 by 24\n",
        "a=pd.Series([4, 10, 7, 7, 24, 9, 3, 8, 9])\n",
        "round(np.std(a,ddof=1),4)"
      ],
      "id": "0d5f6b1b"
    },
    {
      "cell_type": "code",
      "execution_count": null,
      "metadata": {
        "id": "6fe04648"
      },
      "outputs": [],
      "source": [
        "#Find x and y so that the ordered data set has a mean of 42 and a median of 35.\n",
        "#17 , 22 , 26 , 29 , 34 , x , 42 , 67 , 70 , y\n",
        "#(34+x)/2 = 35\n",
        "x=(35*2) - 34\n",
        "x"
      ],
      "id": "6fe04648"
    },
    {
      "cell_type": "code",
      "execution_count": null,
      "metadata": {
        "id": "1e862e92"
      },
      "outputs": [],
      "source": [
        "#17 , 22 , 26 , 29 , 34 , 36 , 42 , 67 , 70 , y\n",
        "\n",
        "#(17+22+26+29+34+36+42+67+70+y)/10 = 42\n",
        "y=(42*10) - (17+22+26+29+34+36+42+67+70)\n",
        "y"
      ],
      "id": "1e862e92"
    },
    {
      "cell_type": "code",
      "execution_count": null,
      "metadata": {
        "id": "4de4e2a6",
        "colab": {
          "base_uri": "https://localhost:8080/"
        },
        "outputId": "ac9472b7-b402-4bb9-8614-9284c2e67d9a"
      },
      "outputs": [
        {
          "output_type": "stream",
          "name": "stdout",
          "text": [
            "Median= 75.0\n",
            "First Quartile= 69.5\n",
            "Third Quartile= 80.5\n",
            "Inter Quartile Range= 11.0\n"
          ]
        }
      ],
      "source": [
        "#Given the data set: 62 , 65 , 68 , 70 , 72 , 74 , 76 , 78 , 80 , 82 , 96 , 101\n",
        "#Find: the median, the first quartile, the third quartile, the interquartile range (IQR).\n",
        "a=pd.Series([62 , 65 , 68 , 70 , 72 , 74 , 76 , 78 , 80 , 82 , 96 , 101])\n",
        "print('Median=',a.median())\n",
        "print('First Quartile=',a.quantile(0.25))\n",
        "print('Third Quartile=',a.quantile(0.75))\n",
        "print('Inter Quartile Range=',a.quantile(0.75) - a.quantile(0.25))"
      ],
      "id": "4de4e2a6"
    },
    {
      "cell_type": "code",
      "execution_count": null,
      "metadata": {
        "id": "3c24481b"
      },
      "outputs": [],
      "source": [],
      "id": "3c24481b"
    },
    {
      "cell_type": "code",
      "execution_count": null,
      "metadata": {
        "id": "Bi9MPCKq7eMW"
      },
      "outputs": [],
      "source": [],
      "id": "Bi9MPCKq7eMW"
    },
    {
      "cell_type": "code",
      "execution_count": null,
      "metadata": {
        "id": "wCmheDbU7eQa"
      },
      "outputs": [],
      "source": [],
      "id": "wCmheDbU7eQa"
    },
    {
      "cell_type": "code",
      "execution_count": null,
      "metadata": {
        "id": "-tcwyclq7eW7"
      },
      "outputs": [],
      "source": [],
      "id": "-tcwyclq7eW7"
    },
    {
      "cell_type": "code",
      "execution_count": null,
      "metadata": {
        "id": "WxL5ABA_7eaJ"
      },
      "outputs": [],
      "source": [
        "def facto(x):\n",
        "    if(x<=1):\n",
        "        return 1\n",
        "    else:\n",
        "        return x*facto(x-1)\n",
        "\n",
        "userInput = int(input(\"Enter value : \"))\n",
        "print(\"Factorial of \",userInput,\" is \",facto(userInput))"
      ],
      "id": "WxL5ABA_7eaJ"
    },
    {
      "cell_type": "markdown",
      "source": [
        "- For cummulative false, we use PMF (Probability Mass Function)\n",
        "- For cummulative true, we use CDF (Cummulative Density Function)\n",
        "\n",
        "I am tossing a coin 10 times. Find probability of:"
      ],
      "metadata": {
        "id": "YZ6VbxWvj9Yr"
      },
      "id": "YZ6VbxWvj9Yr"
    },
    {
      "cell_type": "code",
      "source": [
        "from scipy import stats\n",
        "# P(Less than 4 heads)\n",
        "stats.binom.cdf(3, 10, 0.5)"
      ],
      "metadata": {
        "colab": {
          "base_uri": "https://localhost:8080/"
        },
        "id": "vVn4GlZykMk6",
        "outputId": "479f3bf5-c922-471c-f133-e595df827fe6"
      },
      "id": "vVn4GlZykMk6",
      "execution_count": null,
      "outputs": [
        {
          "output_type": "execute_result",
          "data": {
            "text/plain": [
              "0.171875"
            ]
          },
          "metadata": {},
          "execution_count": 4
        }
      ]
    },
    {
      "cell_type": "code",
      "source": [
        "# P(9 or lesser heads)\n",
        "stats.binom.cdf(9, 10 , 0.5)"
      ],
      "metadata": {
        "colab": {
          "base_uri": "https://localhost:8080/"
        },
        "id": "UOEyCGa1kaC3",
        "outputId": "ccc31d03-a0a7-453d-b4d2-fadde54bde0e"
      },
      "id": "UOEyCGa1kaC3",
      "execution_count": null,
      "outputs": [
        {
          "output_type": "execute_result",
          "data": {
            "text/plain": [
              "0.9990234375"
            ]
          },
          "metadata": {},
          "execution_count": 5
        }
      ]
    },
    {
      "cell_type": "code",
      "source": [
        "# P(Atleast 6 heads)\n",
        "1 - stats.binom.cdf(5, 10, 0.5)"
      ],
      "metadata": {
        "colab": {
          "base_uri": "https://localhost:8080/"
        },
        "id": "TZ4IjSaik0uN",
        "outputId": "8e54d3df-b6d5-4ff2-da95-3c14d3c9e531"
      },
      "id": "TZ4IjSaik0uN",
      "execution_count": null,
      "outputs": [
        {
          "output_type": "execute_result",
          "data": {
            "text/plain": [
              "0.376953125"
            ]
          },
          "metadata": {},
          "execution_count": 6
        }
      ]
    },
    {
      "cell_type": "code",
      "source": [
        "# P(Exactly 3 heads)\n",
        "stats.binom.pmf(3,10,0.5)"
      ],
      "metadata": {
        "colab": {
          "base_uri": "https://localhost:8080/"
        },
        "id": "_C3Gvj6zi0o1",
        "outputId": "5f5e2d35-1779-48b2-c329-2a8c6f50834d"
      },
      "id": "_C3Gvj6zi0o1",
      "execution_count": null,
      "outputs": [
        {
          "output_type": "execute_result",
          "data": {
            "text/plain": [
              "0.1171875"
            ]
          },
          "metadata": {},
          "execution_count": 7
        }
      ]
    },
    {
      "cell_type": "code",
      "source": [],
      "metadata": {
        "id": "wlcJfnvJi02W"
      },
      "id": "wlcJfnvJi02W",
      "execution_count": null,
      "outputs": []
    },
    {
      "cell_type": "code",
      "source": [
        "# P(Exactly 7 heads)\n",
        "stats.binom.pmf(7, 10 , 0.5)"
      ],
      "metadata": {
        "colab": {
          "base_uri": "https://localhost:8080/"
        },
        "id": "5Eqc97SDlD3E",
        "outputId": "613aa3f8-54ab-48ce-c050-35d667473942"
      },
      "id": "5Eqc97SDlD3E",
      "execution_count": null,
      "outputs": [
        {
          "output_type": "execute_result",
          "data": {
            "text/plain": [
              "0.11718749999999999"
            ]
          },
          "metadata": {},
          "execution_count": 4
        }
      ]
    },
    {
      "cell_type": "code",
      "source": [],
      "metadata": {
        "id": "I-_7mkN4lP6-"
      },
      "id": "I-_7mkN4lP6-",
      "execution_count": null,
      "outputs": []
    }
  ],
  "metadata": {
    "colab": {
      "provenance": []
    },
    "kernelspec": {
      "display_name": "Python 3 (ipykernel)",
      "language": "python",
      "name": "python3"
    },
    "language_info": {
      "codemirror_mode": {
        "name": "ipython",
        "version": 3
      },
      "file_extension": ".py",
      "mimetype": "text/x-python",
      "name": "python",
      "nbconvert_exporter": "python",
      "pygments_lexer": "ipython3",
      "version": "3.9.12"
    }
  },
  "nbformat": 4,
  "nbformat_minor": 5
}